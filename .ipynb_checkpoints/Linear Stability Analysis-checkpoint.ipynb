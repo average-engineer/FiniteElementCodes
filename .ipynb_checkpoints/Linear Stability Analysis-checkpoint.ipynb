{
 "cells": [
  {
   "cell_type": "code",
   "execution_count": 1,
   "id": "73bdc6d3",
   "metadata": {},
   "outputs": [],
   "source": [
    "import sympy as syms\n",
    "import numpy as np\n",
    "import math\n",
    "\n",
    "from sympy import symbols\n",
    "from sympy import Matrix\n",
    "from sympy import latex\n",
    "from sympy import solve"
   ]
  },
  {
   "cell_type": "code",
   "execution_count": null,
   "id": "8934913b",
   "metadata": {},
   "outputs": [],
   "source": [
    "# Element Properties\n",
    "E, A, I, L, P, lbda = symbols('E A I L P \\lambda')\n",
    "E = 70000\n",
    "A = 100\n",
    "L = 1000\n",
    "I = 833.3\n",
    "P = -1"
   ]
  },
  {
   "cell_type": "code",
   "execution_count": null,
   "id": "bd55ee2c",
   "metadata": {},
   "outputs": [],
   "source": [
    "# Case 1: Simply Supported 2 Node Frame Element\n",
    "# Reduced Linear Stiffness Matrix\n",
    "K_lin = ((E*I)/(L))*Matrix([[4,0,2],[0, A/I,0],[2,0,4]])\n",
    "K_lin"
   ]
  },
  {
   "cell_type": "code",
   "execution_count": null,
   "id": "72150440",
   "metadata": {},
   "outputs": [],
   "source": [
    "# Reduced Geometric Stiffness Matrix\n",
    "K_geo = (P/10)*Matrix([[4*L/3,0,-L/3],[0,0,0],[-L/3,0,4*L/3]])\n",
    "K_geo"
   ]
  },
  {
   "cell_type": "code",
   "execution_count": null,
   "id": "52a61259",
   "metadata": {},
   "outputs": [],
   "source": [
    "# Reduced total stiffness matrix at bifurcation point\n",
    "K_tau = K_lin + lbda*K_geo\n",
    "K_tau"
   ]
  },
  {
   "cell_type": "code",
   "execution_count": null,
   "id": "6afb8128",
   "metadata": {},
   "outputs": [],
   "source": [
    "# At the bifurcation point, the the stiffness matrix will be singular\n",
    "detEqn =K_tau.det()\n",
    "detEqn"
   ]
  },
  {
   "cell_type": "code",
   "execution_count": null,
   "id": "caf92881",
   "metadata": {},
   "outputs": [],
   "source": [
    "detEqn = detEqn.subs([(E,70000), (A,100), (L,1000), (I,833.3), (P,-1)]) \n",
    "detEqn"
   ]
  },
  {
   "cell_type": "code",
   "execution_count": null,
   "id": "db5b8ad1",
   "metadata": {},
   "outputs": [],
   "source": [
    "lbdas = solve(detEqn,lbda)\n",
    "lbdas"
   ]
  },
  {
   "cell_type": "code",
   "execution_count": null,
   "id": "c58afd04",
   "metadata": {},
   "outputs": [],
   "source": [
    "# Critical Load\n",
    "P_crit = min(lbdas)*P\n",
    "P_crit"
   ]
  },
  {
   "cell_type": "code",
   "execution_count": null,
   "id": "cbef49c3",
   "metadata": {},
   "outputs": [],
   "source": [
    "# Case 2: Cantilever 2 Node Frame Element (Applied Load not given)\n",
    "# Element Properties\n",
    "E, A, I, L, P, lbda = symbols('E A I L P \\lambda')\n"
   ]
  },
  {
   "cell_type": "code",
   "execution_count": null,
   "id": "cca0b73f",
   "metadata": {},
   "outputs": [],
   "source": [
    "F = syms.symbols('F') # Unknown Applied Critical Load (includes lambda too)\n",
    "# Reduced Linear Stiffness Matrix\n",
    "K_lin = ((E*I)/(L))*Matrix([[A/I,0,0],[0,12*(L**2),-6*L],[0,-6*L,4]])\n",
    "K_lin"
   ]
  },
  {
   "cell_type": "code",
   "execution_count": null,
   "id": "11e96d43",
   "metadata": {},
   "outputs": [],
   "source": [
    "# Reduced Geometric stiffness matrix \n",
    "K_geo = (F/10)*Matrix([[0,0,0],[0,12/L,-1],[0,-1,4*L/3]])\n",
    "K_geo"
   ]
  },
  {
   "cell_type": "code",
   "execution_count": null,
   "id": "c56ade79",
   "metadata": {},
   "outputs": [],
   "source": [
    "# Total Stiffness Matrix at bifurcation point\n",
    "K_tau = K_lin + K_geo # lambda is multiplied with F and assumed to be the possible critical load\n",
    "K_tau"
   ]
  },
  {
   "cell_type": "code",
   "execution_count": null,
   "id": "ecd3dd1b",
   "metadata": {},
   "outputs": [],
   "source": [
    "# Stiffness will be singular at bifurcation point\n",
    "detEqn = K_tau.det()\n",
    "detEqn"
   ]
  },
  {
   "cell_type": "code",
   "execution_count": null,
   "id": "812ddb0a",
   "metadata": {},
   "outputs": [],
   "source": [
    "force = syms.solve(detEqn,F)\n",
    "force"
   ]
  },
  {
   "cell_type": "code",
   "execution_count": 27,
   "id": "3101e742",
   "metadata": {},
   "outputs": [
    {
     "ename": "NameError",
     "evalue": "name 'force' is not defined",
     "output_type": "error",
     "traceback": [
      "\u001b[1;31m---------------------------------------------------------------------------\u001b[0m",
      "\u001b[1;31mNameError\u001b[0m                                 Traceback (most recent call last)",
      "\u001b[1;32m~\\AppData\\Local\\Temp/ipykernel_17952/1546331079.py\u001b[0m in \u001b[0;36m<module>\u001b[1;34m\u001b[0m\n\u001b[0;32m      6\u001b[0m     \u001b[1;32mreturn\u001b[0m \u001b[0marr\u001b[0m\u001b[1;33m[\u001b[0m\u001b[1;36m0\u001b[0m\u001b[1;33m]\u001b[0m\u001b[1;33m\u001b[0m\u001b[1;33m\u001b[0m\u001b[0m\n\u001b[0;32m      7\u001b[0m \u001b[1;33m\u001b[0m\u001b[0m\n\u001b[1;32m----> 8\u001b[1;33m \u001b[0mf_crit\u001b[0m \u001b[1;33m=\u001b[0m \u001b[0mcriticalLoad\u001b[0m\u001b[1;33m(\u001b[0m\u001b[0mforce\u001b[0m\u001b[1;33m)\u001b[0m\u001b[1;33m\u001b[0m\u001b[1;33m\u001b[0m\u001b[0m\n\u001b[0m\u001b[0;32m      9\u001b[0m \u001b[0mf_crit\u001b[0m\u001b[1;33m\u001b[0m\u001b[1;33m\u001b[0m\u001b[0m\n",
      "\u001b[1;31mNameError\u001b[0m: name 'force' is not defined"
     ]
    }
   ],
   "source": [
    "# Critical Load\n",
    "def criticalLoad(arr):\n",
    "    for i in range(0,len(arr)):\n",
    "        if abs(arr[i]) < abs(arr[0]):\n",
    "            return arr[i]\n",
    "    return arr[0]\n",
    "\n",
    "f_crit = criticalLoad(force)\n",
    "f_crit"
   ]
  },
  {
   "cell_type": "code",
   "execution_count": null,
   "id": "7ac9b633",
   "metadata": {},
   "outputs": [],
   "source": [
    "# Dispalcement required to make the elements buckle\n",
    "# Node 2 (Free End) DOFs\n",
    "u,w,phi = syms.symbols('u w \\phi')\n",
    "# Nodal Force Matrix\n",
    "f_mat = syms.Matrix([[f_crit],[0],[0]])\n",
    "# Reduced system nodal displacement vector\n",
    "u_mat = syms.Matrix([[u],[w],[phi]])\n",
    "f_mat = K_tau*u_mat\n",
    "f_mat"
   ]
  },
  {
   "cell_type": "code",
   "execution_count": null,
   "id": "95035798",
   "metadata": {},
   "outputs": [],
   "source": [
    "# Solving for displacement\n",
    "syms.solve(f_mat[0] - f_crit,u)"
   ]
  },
  {
   "cell_type": "code",
   "execution_count": null,
   "id": "7aab5f67",
   "metadata": {},
   "outputs": [],
   "source": [
    "# Displacement from Euler's equation\n",
    "f_euler = (math.pi**2)*E*I/(4*(L**2)) # Effective length for the given boundary conditions is 2L\n",
    "f_euler"
   ]
  },
  {
   "cell_type": "code",
   "execution_count": 2,
   "id": "124d3cfc",
   "metadata": {},
   "outputs": [],
   "source": [
    "# 2 Shear Rigid Beam Elements (2 nodes per element)\n",
    "# One end (node 1) fixed/clamped\n",
    "# Second end (node 2) can slide horizontally in a guide\n",
    "# #DOFs per element: 4 (bending delfection and rotation are the DOFs in one node)\n",
    "# Boundary Conditions:\n",
    "# Node 1 is fixed so w1 and phi1 = 0\n",
    "# Node 3 -> w3 = ph3 = 0\n",
    "\n",
    "# System Parameters\n",
    "E, I, a, F = symbols('E I a F') # Length of each element: a/2"
   ]
  },
  {
   "cell_type": "code",
   "execution_count": 15,
   "id": "8f86eed0",
   "metadata": {},
   "outputs": [
    {
     "data": {
      "text/latex": [
       "$\\displaystyle \\left[\\begin{matrix}\\frac{192 E I}{a^{3}} & 0\\\\0 & \\frac{16 E I}{a}\\end{matrix}\\right]$"
      ],
      "text/plain": [
       "Matrix([\n",
       "[192*E*I/a**3,        0],\n",
       "[           0, 16*E*I/a]])"
      ]
     },
     "execution_count": 15,
     "metadata": {},
     "output_type": "execute_result"
    }
   ],
   "source": [
    "# Linear Stiffness Matrix for the reduced system based on the given boundary conditions\n",
    "K_lin = ((2*E*I)/(a))*Matrix([[96/(a**2),0],[0,8]])\n",
    "K_lin"
   ]
  },
  {
   "cell_type": "code",
   "execution_count": 16,
   "id": "38f83ae7",
   "metadata": {},
   "outputs": [
    {
     "data": {
      "text/latex": [
       "$\\displaystyle \\left[\\begin{matrix}\\frac{24 F}{5 a} & 0\\\\0 & \\frac{2 F a}{15}\\end{matrix}\\right]$"
      ],
      "text/plain": [
       "Matrix([\n",
       "[24*F/(5*a),        0],\n",
       "[         0, 2*F*a/15]])"
      ]
     },
     "execution_count": 16,
     "metadata": {},
     "output_type": "execute_result"
    }
   ],
   "source": [
    "# Geometric Stiffness Matrix for the reduced system based on the given boundary conditions\n",
    "K_geo = ((F)/(10))*Matrix([[48/(a),0],[0,4*a/3]])\n",
    "K_geo\n",
    "# F = lambda*P, P is the applied force"
   ]
  },
  {
   "cell_type": "code",
   "execution_count": 17,
   "id": "8c16792e",
   "metadata": {},
   "outputs": [
    {
     "data": {
      "text/latex": [
       "$\\displaystyle \\left[\\begin{matrix}\\frac{192 E I}{a^{3}} + \\frac{24 F}{5 a} & 0\\\\0 & \\frac{16 E I}{a} + \\frac{2 F a}{15}\\end{matrix}\\right]$"
      ],
      "text/plain": [
       "Matrix([\n",
       "[192*E*I/a**3 + 24*F/(5*a),                   0],\n",
       "[                        0, 16*E*I/a + 2*F*a/15]])"
      ]
     },
     "execution_count": 17,
     "metadata": {},
     "output_type": "execute_result"
    }
   ],
   "source": [
    "# Reduced Stiffness Matrix at the bifurcation point\n",
    "K_tau = K_geo + K_lin\n",
    "K_tau"
   ]
  },
  {
   "cell_type": "code",
   "execution_count": 18,
   "id": "55cce239",
   "metadata": {},
   "outputs": [
    {
     "data": {
      "text/latex": [
       "$\\displaystyle \\frac{76800 E^{2} I^{2} + 2560 E F I a^{2} + 16 F^{2} a^{4}}{25 a^{4}}$"
      ],
      "text/plain": [
       "(76800*E**2*I**2 + 2560*E*F*I*a**2 + 16*F**2*a**4)/(25*a**4)"
      ]
     },
     "execution_count": 18,
     "metadata": {},
     "output_type": "execute_result"
    }
   ],
   "source": [
    "# At the bifurcation point, the stiffness matrix becomes singular\n",
    "# Determinant of Stiffness Matrix\n",
    "det = K_tau.det()\n",
    "det"
   ]
  },
  {
   "cell_type": "code",
   "execution_count": 30,
   "id": "f0dceb2b",
   "metadata": {},
   "outputs": [
    {
     "data": {
      "text/latex": [
       "$\\displaystyle - \\frac{40 E I}{a^{2}}$"
      ],
      "text/plain": [
       "-40*E*I/a**2"
      ]
     },
     "execution_count": 30,
     "metadata": {},
     "output_type": "execute_result"
    }
   ],
   "source": [
    "# Solving for F\n",
    "f = syms.solve(det,F)\n",
    "f[1]"
   ]
  },
  {
   "cell_type": "code",
   "execution_count": 31,
   "id": "11067ed8",
   "metadata": {},
   "outputs": [
    {
     "data": {
      "text/latex": [
       "$\\displaystyle - \\frac{40 E I}{a^{2}}$"
      ],
      "text/plain": [
       "-40*E*I/a**2"
      ]
     },
     "execution_count": 31,
     "metadata": {},
     "output_type": "execute_result"
    }
   ],
   "source": [
    "P_crit = f[1]\n",
    "P_crit"
   ]
  },
  {
   "cell_type": "code",
   "execution_count": 26,
   "id": "c6cb9445",
   "metadata": {},
   "outputs": [
    {
     "data": {
      "text/latex": [
       "$\\displaystyle - \\frac{39.4784176043574 E I}{a^{2}}$"
      ],
      "text/plain": [
       "-39.4784176043574*E*I/a**2"
      ]
     },
     "execution_count": 26,
     "metadata": {},
     "output_type": "execute_result"
    }
   ],
   "source": [
    "# Theoretical buckling load computed according to Euler Buckling Theory\n",
    "P_euler = -(4*(math.pi)**2)*(E*I)/(a**2)\n",
    "P_euler"
   ]
  },
  {
   "cell_type": "code",
   "execution_count": 32,
   "id": "692582de",
   "metadata": {},
   "outputs": [
    {
     "data": {
      "text/latex": [
       "$\\displaystyle - \\frac{1.32118364233778 a^{2} \\left|{\\frac{E I}{a^{2}}}\\right|}{E I}$"
      ],
      "text/plain": [
       "-1.32118364233778*a**2*Abs(E*I/a**2)/(E*I)"
      ]
     },
     "execution_count": 32,
     "metadata": {},
     "output_type": "execute_result"
    }
   ],
   "source": [
    "# Error in numerical approximation\n",
    "error = abs(P_crit - P_euler)/P_euler\n",
    "error = error*100\n",
    "error"
   ]
  },
  {
   "cell_type": "code",
   "execution_count": null,
   "id": "a498f873",
   "metadata": {},
   "outputs": [],
   "source": []
  }
 ],
 "metadata": {
  "kernelspec": {
   "display_name": "Python 3 (ipykernel)",
   "language": "python",
   "name": "python3"
  },
  "language_info": {
   "codemirror_mode": {
    "name": "ipython",
    "version": 3
   },
   "file_extension": ".py",
   "mimetype": "text/x-python",
   "name": "python",
   "nbconvert_exporter": "python",
   "pygments_lexer": "ipython3",
   "version": "3.8.12"
  }
 },
 "nbformat": 4,
 "nbformat_minor": 5
}
