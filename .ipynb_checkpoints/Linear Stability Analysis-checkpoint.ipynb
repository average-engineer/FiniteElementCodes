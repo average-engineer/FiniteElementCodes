{
 "cells": [
  {
   "cell_type": "code",
   "execution_count": 19,
   "id": "73bdc6d3",
   "metadata": {},
   "outputs": [],
   "source": [
    "import sympy as syms\n",
    "import numpy as np\n",
    "\n",
    "from sympy import symbols\n",
    "from sympy import Matrix\n",
    "from sympy import latex\n",
    "from sympy import solve"
   ]
  },
  {
   "cell_type": "code",
   "execution_count": 47,
   "id": "8934913b",
   "metadata": {},
   "outputs": [
    {
     "data": {
      "text/plain": [
       "sympy.core.add.Add"
      ]
     },
     "execution_count": 47,
     "metadata": {},
     "output_type": "execute_result"
    }
   ],
   "source": [
    "# Element Properties\n",
    "E, A, I, L, P, lbda = symbols('E A I L P \\lambda')\n",
    "E = 70000\n",
    "A = 100\n",
    "L = 1000\n",
    "I = 833.3\n",
    "P = -1"
   ]
  },
  {
   "cell_type": "code",
   "execution_count": 39,
   "id": "e7ce91cf",
   "metadata": {},
   "outputs": [
    {
     "data": {
      "text/latex": [
       "$\\displaystyle \\left[\\begin{matrix}233324.0 & 0 & 116662.0\\\\0 & 7000.0 & 0\\\\116662.0 & 0 & 233324.0\\end{matrix}\\right]$"
      ],
      "text/plain": [
       "Matrix([\n",
       "[233324.0,      0, 116662.0],\n",
       "[       0, 7000.0,        0],\n",
       "[116662.0,      0, 233324.0]])"
      ]
     },
     "execution_count": 39,
     "metadata": {},
     "output_type": "execute_result"
    }
   ],
   "source": [
    "# Case 1: Simply Supported 2 Node Frame Element\n",
    "# Reduced Linear Stiffness Matrix\n",
    "K_lin = ((E*I)/(L))*Matrix([[4,0,2],[0, A/I,0],[2,0,4]])\n",
    "K_lin"
   ]
  },
  {
   "cell_type": "code",
   "execution_count": 40,
   "id": "8da78730",
   "metadata": {},
   "outputs": [
    {
     "data": {
      "text/latex": [
       "$\\displaystyle \\left[\\begin{matrix}-133.333333333333 & 0 & 33.3333333333333\\\\0 & 0 & 0\\\\33.3333333333333 & 0 & -133.333333333333\\end{matrix}\\right]$"
      ],
      "text/plain": [
       "Matrix([\n",
       "[-133.333333333333, 0,  33.3333333333333],\n",
       "[                0, 0,                 0],\n",
       "[ 33.3333333333333, 0, -133.333333333333]])"
      ]
     },
     "execution_count": 40,
     "metadata": {},
     "output_type": "execute_result"
    }
   ],
   "source": [
    "# Reduced Geometric Stiffness Matrix\n",
    "K_geo = (P/10)*Matrix([[4*L/3,0,-L/3],[0,0,0],[-L/3,0,4*L/3]])\n",
    "K_geo"
   ]
  },
  {
   "cell_type": "code",
   "execution_count": 41,
   "id": "10d3044d",
   "metadata": {},
   "outputs": [
    {
     "data": {
      "text/latex": [
       "$\\displaystyle \\left[\\begin{matrix}233324.0 - 133.333333333333 \\lambda & 0 & 33.3333333333333 \\lambda + 116662.0\\\\0 & 7000.0 & 0\\\\33.3333333333333 \\lambda + 116662.0 & 0 & 233324.0 - 133.333333333333 \\lambda\\end{matrix}\\right]$"
      ],
      "text/plain": [
       "Matrix([\n",
       "[233324.0 - 133.333333333333*\\lambda,      0, 33.3333333333333*\\lambda + 116662.0],\n",
       "[                                  0, 7000.0,                                   0],\n",
       "[33.3333333333333*\\lambda + 116662.0,      0, 233324.0 - 133.333333333333*\\lambda]])"
      ]
     },
     "execution_count": 41,
     "metadata": {},
     "output_type": "execute_result"
    }
   ],
   "source": [
    "# Reduced total stiffness matrix at bifurcation point\n",
    "K_tau = K_lin + lbda*K_geo\n",
    "K_tau"
   ]
  },
  {
   "cell_type": "code",
   "execution_count": 42,
   "id": "c5542212",
   "metadata": {},
   "outputs": [
    {
     "data": {
      "text/latex": [
       "$\\displaystyle 116666666.666667 \\lambda^{2} - 489980400000.0 \\lambda + 285810467124000.0$"
      ],
      "text/plain": [
       "116666666.666667*\\lambda**2 - 489980400000.0*\\lambda + 285810467124000.0"
      ]
     },
     "execution_count": 42,
     "metadata": {},
     "output_type": "execute_result"
    }
   ],
   "source": [
    "# At the bifurcation point, the the stiffness matrix will be singular\n",
    "detEqn =K_tau.det()\n",
    "detEqn"
   ]
  },
  {
   "cell_type": "code",
   "execution_count": 43,
   "id": "9f0249d1",
   "metadata": {},
   "outputs": [
    {
     "data": {
      "text/latex": [
       "$\\displaystyle 116666666.666667 \\lambda^{2} - 489980400000.0 \\lambda + 285810467124000.0$"
      ],
      "text/plain": [
       "116666666.666667*\\lambda**2 - 489980400000.0*\\lambda + 285810467124000.0"
      ]
     },
     "execution_count": 43,
     "metadata": {},
     "output_type": "execute_result"
    }
   ],
   "source": [
    "detEqn = detEqn.subs([(E,70000), (A,100), (L,1000), (I,833.3), (P,-1)]) \n",
    "detEqn"
   ]
  },
  {
   "cell_type": "code",
   "execution_count": 44,
   "id": "0c03bba4",
   "metadata": {},
   "outputs": [
    {
     "data": {
      "text/plain": [
       "[699.972000000001, 3499.85999999999]"
      ]
     },
     "execution_count": 44,
     "metadata": {},
     "output_type": "execute_result"
    }
   ],
   "source": [
    "lbdas = solve(detEqn,lbda)\n",
    "lbdas"
   ]
  },
  {
   "cell_type": "code",
   "execution_count": 50,
   "id": "5229edf4",
   "metadata": {},
   "outputs": [
    {
     "data": {
      "text/latex": [
       "$\\displaystyle -699.972000000001$"
      ],
      "text/plain": [
       "-699.972000000001"
      ]
     },
     "execution_count": 50,
     "metadata": {},
     "output_type": "execute_result"
    }
   ],
   "source": [
    "# Critical Load\n",
    "P_crit = min(lbdas)*P\n",
    "P_crit"
   ]
  },
  {
   "cell_type": "code",
   "execution_count": 55,
   "id": "2a7a4d0c",
   "metadata": {},
   "outputs": [
    {
     "data": {
      "text/latex": [
       "$\\displaystyle \\left[\\begin{matrix}5599998600000.0 & -5599998600.0 & 0\\\\-5599998600.0 & 7466664.8 & 0\\\\0 & 0 & 56000.0\\end{matrix}\\right]$"
      ],
      "text/plain": [
       "Matrix([\n",
       "[5599998600000.0, -5599998600.0,       0],\n",
       "[  -5599998600.0,     7466664.8,       0],\n",
       "[              0,             0, 56000.0]])"
      ]
     },
     "execution_count": 55,
     "metadata": {},
     "output_type": "execute_result"
    }
   ],
   "source": [
    "# Case 2: Cantilever 2 Node Frame Element (Applied Load not given)\n",
    "F = syms.symbols('F') # Unknown Applied Critical Load (includes lambda too)\n",
    "E = 70000\n",
    "A = 400\n",
    "L = 500\n",
    "I = 13333.33\n",
    "# Reduced Linear Stiffness Matrix\n",
    "K_lin = (E*I/L)*Matrix([[12*(L**2),-6*L,0],[-6*L,4,0],[0,0,A/I]])\n",
    "K_lin"
   ]
  },
  {
   "cell_type": "code",
   "execution_count": 56,
   "id": "8b7a2bf3",
   "metadata": {},
   "outputs": [
    {
     "data": {
      "text/latex": [
       "$\\displaystyle \\left[\\begin{matrix}0 & 0 & 0\\\\0 & 0.0024 F & - \\frac{F}{10}\\\\0 & - \\frac{F}{10} & 66.6666666666667 F\\end{matrix}\\right]$"
      ],
      "text/plain": [
       "Matrix([\n",
       "[0,        0,                  0],\n",
       "[0, 0.0024*F,              -F/10],\n",
       "[0,    -F/10, 66.6666666666667*F]])"
      ]
     },
     "execution_count": 56,
     "metadata": {},
     "output_type": "execute_result"
    }
   ],
   "source": [
    "# Reduced Geometric stiffness matrix \n",
    "K_geo = (F/10)*Matrix([[0,0,0],[0,12/L,-1],[0,-1,4*L/3]])\n",
    "K_geo"
   ]
  },
  {
   "cell_type": "code",
   "execution_count": 57,
   "id": "3a2e4665",
   "metadata": {},
   "outputs": [
    {
     "data": {
      "text/latex": [
       "$\\displaystyle \\left[\\begin{matrix}5599998600000.0 & -5599998600.0 & 0\\\\-5599998600.0 & 0.0024 F + 7466664.8 & - \\frac{F}{10}\\\\0 & - \\frac{F}{10} & 66.6666666666667 F + 56000.0\\end{matrix}\\right]$"
      ],
      "text/plain": [
       "Matrix([\n",
       "[5599998600000.0,        -5599998600.0,                            0],\n",
       "[  -5599998600.0, 0.0024*F + 7466664.8,                        -F/10],\n",
       "[              0,                -F/10, 66.6666666666667*F + 56000.0]])"
      ]
     },
     "execution_count": 57,
     "metadata": {},
     "output_type": "execute_result"
    }
   ],
   "source": [
    "# Total Stiffness Matrix at bifurcation point\n",
    "K_tau = K_lin + K_geo # lambda is multiplied with F and assumed to be the possible critical load\n",
    "K_tau"
   ]
  },
  {
   "cell_type": "code",
   "execution_count": 58,
   "id": "6f0628f9",
   "metadata": {},
   "outputs": [
    {
     "data": {
      "text/latex": [
       "$\\displaystyle 839999790000.0 F^{2} + 6.96889293084299 \\cdot 10^{20} F + 5.8538637397337 \\cdot 10^{23}$"
      ],
      "text/plain": [
       "839999790000.0*F**2 + 6.96889293084299e+20*F + 5.8538637397337e+23"
      ]
     },
     "execution_count": 58,
     "metadata": {},
     "output_type": "execute_result"
    }
   ],
   "source": [
    "# Stiffness will be singular at bifurcation point\n",
    "detEqn = K_tau.det()\n",
    "detEqn"
   ]
  },
  {
   "cell_type": "code",
   "execution_count": 68,
   "id": "9a0f71ef",
   "metadata": {},
   "outputs": [
    {
     "data": {
      "text/plain": [
       "[-829629478.222278, -839.999943299933]"
      ]
     },
     "execution_count": 68,
     "metadata": {},
     "output_type": "execute_result"
    }
   ],
   "source": [
    "force = syms.solve(detEqn,F)\n",
    "force"
   ]
  },
  {
   "cell_type": "code",
   "execution_count": 69,
   "id": "59c1f99f",
   "metadata": {},
   "outputs": [
    {
     "data": {
      "text/latex": [
       "$\\displaystyle -839.999943299933$"
      ],
      "text/plain": [
       "-839.999943299933"
      ]
     },
     "execution_count": 69,
     "metadata": {},
     "output_type": "execute_result"
    }
   ],
   "source": [
    "# Critical Load\n",
    "def criticalLoad(arr):\n",
    "    for i in range(0,len(arr)):\n",
    "        if abs(arr[i]) < abs(arr[0]):\n",
    "            return arr[i]\n",
    "    return arr[0]\n",
    "\n",
    "f_crit = criticalLoad(force)\n",
    "f_crit"
   ]
  },
  {
   "cell_type": "code",
   "execution_count": null,
   "id": "1688cf5a",
   "metadata": {},
   "outputs": [],
   "source": []
  }
 ],
 "metadata": {
  "kernelspec": {
   "display_name": "Python 3 (ipykernel)",
   "language": "python",
   "name": "python3"
  },
  "language_info": {
   "codemirror_mode": {
    "name": "ipython",
    "version": 3
   },
   "file_extension": ".py",
   "mimetype": "text/x-python",
   "name": "python",
   "nbconvert_exporter": "python",
   "pygments_lexer": "ipython3",
   "version": "3.8.12"
  }
 },
 "nbformat": 4,
 "nbformat_minor": 5
}
