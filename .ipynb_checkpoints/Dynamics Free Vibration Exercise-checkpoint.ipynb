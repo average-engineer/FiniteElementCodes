{
 "cells": [
  {
   "cell_type": "code",
   "execution_count": 19,
   "id": "2ea41f5e",
   "metadata": {},
   "outputs": [],
   "source": [
    "import sympy as syms\n",
    "import numpy as np\n",
    "import math\n",
    "\n",
    "from sympy import symbols\n",
    "from sympy import Matrix\n",
    "from sympy import latex\n",
    "from sympy import solve\n",
    "from sympy.matrices import eye, zeros, ones, Identity # Special matrices (eye creates explicit matrix, Identity creates matrix expression)\n",
    "from sympy import *"
   ]
  },
  {
   "cell_type": "markdown",
   "id": "b79c856f",
   "metadata": {},
   "source": [
    "## Question 1\n",
    "3-Node Truss Element, with shape function matrix given.\n",
    "To find:\n",
    "* Consistent Fully occupied mass matrix\n",
    "* Lumped Mass Matrix"
   ]
  },
  {
   "cell_type": "code",
   "execution_count": 2,
   "id": "dfbf63bd",
   "metadata": {},
   "outputs": [
    {
     "data": {
      "text/latex": [
       "$\\displaystyle \\left[\\begin{matrix}1 - \\frac{3 x}{L} + \\frac{2 x^{2}}{L^{2}} & \\frac{4 x}{L} - \\frac{4 x^{2}}{L^{2}} & - \\frac{x}{L} + \\frac{2 x^{2}}{L^{2}}\\end{matrix}\\right]$"
      ],
      "text/plain": [
       "Matrix([[1 - 3*x/L + 2*x**2/L**2, 4*x/L - 4*x**2/L**2, -x/L + 2*x**2/L**2]])"
      ]
     },
     "execution_count": 2,
     "metadata": {},
     "output_type": "execute_result"
    }
   ],
   "source": [
    "x,l,row,A = symbols('x L rho A')\n",
    "N = Matrix([[1 - 3*(x/l) + 2*(x**2/l**2),4*(x/l) - 4*(x**2/l**2),-(x/l) + 2*(x**2/l**2)]])\n",
    "N # Shape Function Matrix"
   ]
  },
  {
   "cell_type": "code",
   "execution_count": 3,
   "id": "f2760698",
   "metadata": {},
   "outputs": [
    {
     "data": {
      "text/latex": [
       "$\\displaystyle \\left[\\begin{matrix}\\frac{2 A L \\rho}{15} & \\frac{A L \\rho}{15} & - \\frac{A L \\rho}{30}\\\\\\frac{A L \\rho}{15} & \\frac{8 A L \\rho}{15} & \\frac{A L \\rho}{15}\\\\- \\frac{A L \\rho}{30} & \\frac{A L \\rho}{15} & \\frac{2 A L \\rho}{15}\\end{matrix}\\right]$"
      ],
      "text/plain": [
       "Matrix([\n",
       "[2*A*L*rho/15,   A*L*rho/15,  -A*L*rho/30],\n",
       "[  A*L*rho/15, 8*A*L*rho/15,   A*L*rho/15],\n",
       "[ -A*L*rho/30,   A*L*rho/15, 2*A*L*rho/15]])"
      ]
     },
     "execution_count": 3,
     "metadata": {},
     "output_type": "execute_result"
    }
   ],
   "source": [
    "# Consistent Mass Matrix\n",
    "M = row*A*syms.integrate(N.T*N,(x,0,l))\n",
    "M"
   ]
  },
  {
   "cell_type": "markdown",
   "id": "0ea694da",
   "metadata": {},
   "source": [
    "### Since no explicit BCs are given, diagnolisation of the consistent mass matrix is done directly"
   ]
  },
  {
   "cell_type": "code",
   "execution_count": 4,
   "id": "39b322f4",
   "metadata": {},
   "outputs": [
    {
     "data": {
      "text/latex": [
       "$\\displaystyle \\left[\\begin{matrix}\\frac{A L \\rho}{6} & 0 & 0\\\\0 & \\frac{2 A L \\rho}{3} & 0\\\\0 & 0 & \\frac{A L \\rho}{6}\\end{matrix}\\right]$"
      ],
      "text/plain": [
       "Matrix([\n",
       "[A*L*rho/6,           0,         0],\n",
       "[        0, 2*A*L*rho/3,         0],\n",
       "[        0,           0, A*L*rho/6]])"
      ]
     },
     "execution_count": 4,
     "metadata": {},
     "output_type": "execute_result"
    }
   ],
   "source": [
    "# Lumped Mass Matrix\n",
    "MLumped = Matrix([[M[0,0] + M[0,1] + M[0,2],0,0],[0,M[1,0] + M[1,1] + M[1,2],0],[0,0,M[2,0] + M[2,1] + M[2,2]]])\n",
    "MLumped"
   ]
  },
  {
   "cell_type": "markdown",
   "id": "1ece6e7b",
   "metadata": {},
   "source": [
    "## Question 2\n",
    "\n",
    "![sys](Images/1.jpg)\n",
    "\n",
    "**To Find**: The eigenfrequency of the system\n",
    "\n",
    "**Given Stiffness and Lumped Mass Matrix for a beam element of length $l$**"
   ]
  },
  {
   "cell_type": "code",
   "execution_count": 90,
   "id": "79d0cdfc",
   "metadata": {},
   "outputs": [],
   "source": [
    "def stiffness(k):\n",
    "    E,I,l = symbols('E I l')\n",
    "    # Length of Element: k*l\n",
    "    l = k*l\n",
    "    return (E*I/(l))*Matrix([[12/l**2,6/l,-12/l**2,6/l],[6/l,4,-6/l,2],[-12/l**2,-6/l,12/l**2,-6/l],[6/l,2,-6/l,4]])\n",
    "\n",
    "def lumpedMass(k):\n",
    "    rho,A,l = symbols('rho A l')\n",
    "    return (rho*A*k*l/2)*Matrix([[1,0,0,0],[0,0,0,0],[0,0,1,0],[0,0,0,0]])"
   ]
  },
  {
   "cell_type": "code",
   "execution_count": 13,
   "id": "7335d578",
   "metadata": {},
   "outputs": [
    {
     "data": {
      "text/latex": [
       "$\\displaystyle \\left[\\begin{matrix}\\frac{3 E I}{2 l^{3}} & \\frac{3 E I}{2 l^{2}} & - \\frac{3 E I}{2 l^{3}} & \\frac{3 E I}{2 l^{2}}\\\\\\frac{3 E I}{2 l^{2}} & \\frac{2 E I}{l} & - \\frac{3 E I}{2 l^{2}} & \\frac{E I}{l}\\\\- \\frac{3 E I}{2 l^{3}} & - \\frac{3 E I}{2 l^{2}} & \\frac{3 E I}{2 l^{3}} & - \\frac{3 E I}{2 l^{2}}\\\\\\frac{3 E I}{2 l^{2}} & \\frac{E I}{l} & - \\frac{3 E I}{2 l^{2}} & \\frac{2 E I}{l}\\end{matrix}\\right]$"
      ],
      "text/plain": [
       "Matrix([\n",
       "[ 3*E*I/(2*l**3),  3*E*I/(2*l**2), -3*E*I/(2*l**3),  3*E*I/(2*l**2)],\n",
       "[ 3*E*I/(2*l**2),         2*E*I/l, -3*E*I/(2*l**2),           E*I/l],\n",
       "[-3*E*I/(2*l**3), -3*E*I/(2*l**2),  3*E*I/(2*l**3), -3*E*I/(2*l**2)],\n",
       "[ 3*E*I/(2*l**2),           E*I/l, -3*E*I/(2*l**2),         2*E*I/l]])"
      ]
     },
     "execution_count": 13,
     "metadata": {},
     "output_type": "execute_result"
    }
   ],
   "source": [
    "# Element 1\n",
    "K1 = stiffness(2)\n",
    "M1 = lumpedMass(2)\n",
    "K1"
   ]
  },
  {
   "cell_type": "code",
   "execution_count": 14,
   "id": "086693a6",
   "metadata": {},
   "outputs": [
    {
     "data": {
      "text/latex": [
       "$\\displaystyle \\left[\\begin{matrix}\\frac{12 E I}{l^{3}} & \\frac{6 E I}{l^{2}} & - \\frac{12 E I}{l^{3}} & \\frac{6 E I}{l^{2}}\\\\\\frac{6 E I}{l^{2}} & \\frac{4 E I}{l} & - \\frac{6 E I}{l^{2}} & \\frac{2 E I}{l}\\\\- \\frac{12 E I}{l^{3}} & - \\frac{6 E I}{l^{2}} & \\frac{12 E I}{l^{3}} & - \\frac{6 E I}{l^{2}}\\\\\\frac{6 E I}{l^{2}} & \\frac{2 E I}{l} & - \\frac{6 E I}{l^{2}} & \\frac{4 E I}{l}\\end{matrix}\\right]$"
      ],
      "text/plain": [
       "Matrix([\n",
       "[ 12*E*I/l**3,  6*E*I/l**2, -12*E*I/l**3,  6*E*I/l**2],\n",
       "[  6*E*I/l**2,     4*E*I/l,  -6*E*I/l**2,     2*E*I/l],\n",
       "[-12*E*I/l**3, -6*E*I/l**2,  12*E*I/l**3, -6*E*I/l**2],\n",
       "[  6*E*I/l**2,     2*E*I/l,  -6*E*I/l**2,     4*E*I/l]])"
      ]
     },
     "execution_count": 14,
     "metadata": {},
     "output_type": "execute_result"
    }
   ],
   "source": [
    "# Element 2\n",
    "K2 = stiffness(1)\n",
    "M2 = lumpedMass(1)\n",
    "K2"
   ]
  },
  {
   "cell_type": "code",
   "execution_count": 15,
   "id": "dda5851b",
   "metadata": {},
   "outputs": [
    {
     "data": {
      "text/latex": [
       "$\\displaystyle \\left[\\begin{matrix}\\frac{3 E I}{2 l^{3}} & \\frac{3 E I}{2 l^{2}} & - \\frac{3 E I}{2 l^{3}} & \\frac{3 E I}{2 l^{2}} & 0 & 0\\\\\\frac{3 E I}{2 l^{2}} & \\frac{2 E I}{l} & - \\frac{3 E I}{2 l^{2}} & \\frac{E I}{l} & 0 & 0\\\\- \\frac{3 E I}{2 l^{3}} & - \\frac{3 E I}{2 l^{2}} & \\frac{27 E I}{2 l^{3}} & \\frac{9 E I}{2 l^{2}} & - \\frac{12 E I}{l^{3}} & \\frac{6 E I}{l^{2}}\\\\\\frac{3 E I}{2 l^{2}} & \\frac{E I}{l} & \\frac{9 E I}{2 l^{2}} & \\frac{6 E I}{l} & - \\frac{6 E I}{l^{2}} & \\frac{2 E I}{l}\\\\0 & 0 & - \\frac{12 E I}{l^{3}} & - \\frac{6 E I}{l^{2}} & \\frac{12 E I}{l^{3}} & - \\frac{6 E I}{l^{2}}\\\\0 & 0 & \\frac{6 E I}{l^{2}} & \\frac{2 E I}{l} & - \\frac{6 E I}{l^{2}} & \\frac{4 E I}{l}\\end{matrix}\\right]$"
      ],
      "text/plain": [
       "Matrix([\n",
       "[ 3*E*I/(2*l**3),  3*E*I/(2*l**2), -3*E*I/(2*l**3), 3*E*I/(2*l**2),            0,           0],\n",
       "[ 3*E*I/(2*l**2),         2*E*I/l, -3*E*I/(2*l**2),          E*I/l,            0,           0],\n",
       "[-3*E*I/(2*l**3), -3*E*I/(2*l**2), 27*E*I/(2*l**3), 9*E*I/(2*l**2), -12*E*I/l**3,  6*E*I/l**2],\n",
       "[ 3*E*I/(2*l**2),           E*I/l,  9*E*I/(2*l**2),        6*E*I/l,  -6*E*I/l**2,     2*E*I/l],\n",
       "[              0,               0,    -12*E*I/l**3,    -6*E*I/l**2,  12*E*I/l**3, -6*E*I/l**2],\n",
       "[              0,               0,      6*E*I/l**2,        2*E*I/l,  -6*E*I/l**2,     4*E*I/l]])"
      ]
     },
     "execution_count": 15,
     "metadata": {},
     "output_type": "execute_result"
    }
   ],
   "source": [
    "# Assembled Stiffness Matrix\n",
    "K = Matrix([[K1[0:2,:],zeros(2,2)],[K1[2:,0:2],K1[2:,2:] + K2[0:2,0:2],K2[0:2,2:]],[zeros(2,2),K2[2:,:]]])\n",
    "K"
   ]
  },
  {
   "cell_type": "code",
   "execution_count": 16,
   "id": "374b7394",
   "metadata": {},
   "outputs": [
    {
     "data": {
      "text/latex": [
       "$\\displaystyle \\left[\\begin{matrix}A l \\rho & 0 & 0 & 0 & 0 & 0\\\\0 & 0 & 0 & 0 & 0 & 0\\\\0 & 0 & \\frac{3 A l \\rho}{2} + M & 0 & 0 & 0\\\\0 & 0 & 0 & 0 & 0 & 0\\\\0 & 0 & 0 & 0 & \\frac{A l \\rho}{2} & 0\\\\0 & 0 & 0 & 0 & 0 & 0\\end{matrix}\\right]$"
      ],
      "text/plain": [
       "Matrix([\n",
       "[A*l*rho, 0,               0, 0,         0, 0],\n",
       "[      0, 0,               0, 0,         0, 0],\n",
       "[      0, 0, 3*A*l*rho/2 + M, 0,         0, 0],\n",
       "[      0, 0,               0, 0,         0, 0],\n",
       "[      0, 0,               0, 0, A*l*rho/2, 0],\n",
       "[      0, 0,               0, 0,         0, 0]])"
      ]
     },
     "execution_count": 16,
     "metadata": {},
     "output_type": "execute_result"
    }
   ],
   "source": [
    "# Assembled Mass Matrix\n",
    "m = symbols('M')\n",
    "M = Matrix([[M1[0:2,:],zeros(2,2)],[M1[2:,0:2],M1[2:,2:] + M2[0:2,0:2] + m*Matrix([[1,0],[0,0]]),M2[0:2,2:]],[zeros(2,2),M2[2:,:]]])\n",
    "M"
   ]
  },
  {
   "cell_type": "code",
   "execution_count": 17,
   "id": "3355fb46",
   "metadata": {},
   "outputs": [
    {
     "data": {
      "text/latex": [
       "$\\displaystyle \\left[\\begin{matrix}\\frac{3 A l \\rho}{2} + M & 0\\\\0 & 0\\end{matrix}\\right]$"
      ],
      "text/plain": [
       "Matrix([\n",
       "[3*A*l*rho/2 + M, 0],\n",
       "[              0, 0]])"
      ]
     },
     "execution_count": 17,
     "metadata": {},
     "output_type": "execute_result"
    }
   ],
   "source": [
    "# Reduced System (Node 1 and Node 3 are fixed)\n",
    "Kred = K[2:4,2:4]\n",
    "Mred = M[2:4,2:4]\n",
    "Mred"
   ]
  },
  {
   "cell_type": "code",
   "execution_count": 18,
   "id": "8bef6a65",
   "metadata": {},
   "outputs": [
    {
     "data": {
      "text/latex": [
       "$\\displaystyle \\frac{- 36 A E I l^{4} \\lambda \\rho + 243 E^{2} I^{2} - 24 E I M l^{3} \\lambda}{4 l^{4}}$"
      ],
      "text/plain": [
       "(-36*A*E*I*l**4*lambda*rho + 243*E**2*I**2 - 24*E*I*M*l**3*lambda)/(4*l**4)"
      ]
     },
     "execution_count": 18,
     "metadata": {},
     "output_type": "execute_result"
    }
   ],
   "source": [
    "# Eigenvalue Problem\n",
    "lbda = symbols('lambda') # Eigenvalues of the system\n",
    "evp = Kred - lbda*Mred\n",
    "evp.det()"
   ]
  },
  {
   "cell_type": "markdown",
   "id": "8936df82",
   "metadata": {},
   "source": [
    "## Question 3\n",
    "\n",
    "3 different cases for modelling a structure using 2 beam elements given:\n",
    "![sys](Images/2.jpg)"
   ]
  },
  {
   "cell_type": "markdown",
   "id": "65ae4c59",
   "metadata": {},
   "source": [
    "### Case 1"
   ]
  },
  {
   "cell_type": "code",
   "execution_count": 24,
   "id": "ac6a51cf",
   "metadata": {},
   "outputs": [
    {
     "data": {
      "text/latex": [
       "$\\displaystyle \\left[\\begin{matrix}\\frac{A l \\rho}{4} & 0 & 0 & 0\\\\0 & 0 & 0 & 0\\\\0 & 0 & \\frac{A l \\rho}{4} & 0\\\\0 & 0 & 0 & 0\\end{matrix}\\right]$"
      ],
      "text/plain": [
       "Matrix([\n",
       "[A*l*rho/4, 0,         0, 0],\n",
       "[        0, 0,         0, 0],\n",
       "[        0, 0, A*l*rho/4, 0],\n",
       "[        0, 0,         0, 0]])"
      ]
     },
     "execution_count": 24,
     "metadata": {},
     "output_type": "execute_result"
    }
   ],
   "source": [
    "# Element 1\n",
    "K1 = stiffness(Rational(1,2))\n",
    "M1 = lumpedMass(Rational(1,2))\n",
    "M1"
   ]
  },
  {
   "cell_type": "code",
   "execution_count": 25,
   "id": "4f96abaf",
   "metadata": {},
   "outputs": [
    {
     "data": {
      "text/latex": [
       "$\\displaystyle \\left[\\begin{matrix}\\frac{A l \\rho}{4} & 0 & 0 & 0\\\\0 & 0 & 0 & 0\\\\0 & 0 & \\frac{A l \\rho}{4} & 0\\\\0 & 0 & 0 & 0\\end{matrix}\\right]$"
      ],
      "text/plain": [
       "Matrix([\n",
       "[A*l*rho/4, 0,         0, 0],\n",
       "[        0, 0,         0, 0],\n",
       "[        0, 0, A*l*rho/4, 0],\n",
       "[        0, 0,         0, 0]])"
      ]
     },
     "execution_count": 25,
     "metadata": {},
     "output_type": "execute_result"
    }
   ],
   "source": [
    "# Element 2\n",
    "K2 = stiffness(Rational(1,2))\n",
    "M2 = lumpedMass(Rational(1,2))\n",
    "M2"
   ]
  },
  {
   "cell_type": "code",
   "execution_count": 23,
   "id": "e9951efe",
   "metadata": {},
   "outputs": [
    {
     "data": {
      "text/latex": [
       "$\\displaystyle \\left[\\begin{matrix}\\frac{96 E I}{l^{3}} & \\frac{24 E I}{l^{2}} & - \\frac{96 E I}{l^{3}} & \\frac{24 E I}{l^{2}} & 0 & 0\\\\\\frac{24 E I}{l^{2}} & \\frac{8 E I}{l} & - \\frac{24 E I}{l^{2}} & \\frac{4 E I}{l} & 0 & 0\\\\- \\frac{96 E I}{l^{3}} & - \\frac{24 E I}{l^{2}} & \\frac{192 E I}{l^{3}} & 0 & - \\frac{96 E I}{l^{3}} & \\frac{24 E I}{l^{2}}\\\\\\frac{24 E I}{l^{2}} & \\frac{4 E I}{l} & 0 & \\frac{16 E I}{l} & - \\frac{24 E I}{l^{2}} & \\frac{4 E I}{l}\\\\0 & 0 & - \\frac{96 E I}{l^{3}} & - \\frac{24 E I}{l^{2}} & \\frac{96 E I}{l^{3}} & - \\frac{24 E I}{l^{2}}\\\\0 & 0 & \\frac{24 E I}{l^{2}} & \\frac{4 E I}{l} & - \\frac{24 E I}{l^{2}} & \\frac{8 E I}{l}\\end{matrix}\\right]$"
      ],
      "text/plain": [
       "Matrix([\n",
       "[ 96*E*I/l**3,  24*E*I/l**2, -96*E*I/l**3,  24*E*I/l**2,            0,            0],\n",
       "[ 24*E*I/l**2,      8*E*I/l, -24*E*I/l**2,      4*E*I/l,            0,            0],\n",
       "[-96*E*I/l**3, -24*E*I/l**2, 192*E*I/l**3,            0, -96*E*I/l**3,  24*E*I/l**2],\n",
       "[ 24*E*I/l**2,      4*E*I/l,            0,     16*E*I/l, -24*E*I/l**2,      4*E*I/l],\n",
       "[           0,            0, -96*E*I/l**3, -24*E*I/l**2,  96*E*I/l**3, -24*E*I/l**2],\n",
       "[           0,            0,  24*E*I/l**2,      4*E*I/l, -24*E*I/l**2,      8*E*I/l]])"
      ]
     },
     "execution_count": 23,
     "metadata": {},
     "output_type": "execute_result"
    }
   ],
   "source": [
    "# Assembled Stiffness Matrix\n",
    "K = Matrix([[K1[0:2,:],zeros(2,2)],[K1[2:,0:2],K1[2:,2:] + K2[0:2,0:2],K2[0:2,2:]],[zeros(2,2),K2[2:,:]]])\n",
    "K"
   ]
  },
  {
   "cell_type": "code",
   "execution_count": 26,
   "id": "b21153eb",
   "metadata": {},
   "outputs": [
    {
     "data": {
      "text/latex": [
       "$\\displaystyle \\left[\\begin{matrix}\\frac{A l \\rho}{4} & 0 & 0 & 0 & 0 & 0\\\\0 & 0 & 0 & 0 & 0 & 0\\\\0 & 0 & \\frac{A l \\rho}{2} & 0 & 0 & 0\\\\0 & 0 & 0 & 0 & 0 & 0\\\\0 & 0 & 0 & 0 & \\frac{A l \\rho}{4} & 0\\\\0 & 0 & 0 & 0 & 0 & 0\\end{matrix}\\right]$"
      ],
      "text/plain": [
       "Matrix([\n",
       "[A*l*rho/4, 0,         0, 0,         0, 0],\n",
       "[        0, 0,         0, 0,         0, 0],\n",
       "[        0, 0, A*l*rho/2, 0,         0, 0],\n",
       "[        0, 0,         0, 0,         0, 0],\n",
       "[        0, 0,         0, 0, A*l*rho/4, 0],\n",
       "[        0, 0,         0, 0,         0, 0]])"
      ]
     },
     "execution_count": 26,
     "metadata": {},
     "output_type": "execute_result"
    }
   ],
   "source": [
    "# Assembled Mass Matrix\n",
    "m = symbols('M')\n",
    "M = Matrix([[M1[0:2,:],zeros(2,2)],[M1[2:,0:2],M1[2:,2:] + M2[0:2,0:2],M2[0:2,2:]],[zeros(2,2),M2[2:,:]]])\n",
    "M"
   ]
  },
  {
   "cell_type": "code",
   "execution_count": 38,
   "id": "99bc16d8",
   "metadata": {},
   "outputs": [
    {
     "data": {
      "text/latex": [
       "$\\displaystyle \\left[\\begin{matrix}\\frac{192 E I}{l^{3}} & 0 & \\frac{24 E I}{l^{2}}\\\\0 & \\frac{16 E I}{l} & \\frac{4 E I}{l}\\\\\\frac{24 E I}{l^{2}} & \\frac{4 E I}{l} & \\frac{8 E I}{l}\\end{matrix}\\right]$"
      ],
      "text/plain": [
       "Matrix([\n",
       "[192*E*I/l**3,        0, 24*E*I/l**2],\n",
       "[           0, 16*E*I/l,     4*E*I/l],\n",
       "[ 24*E*I/l**2,  4*E*I/l,     8*E*I/l]])"
      ]
     },
     "execution_count": 38,
     "metadata": {},
     "output_type": "execute_result"
    }
   ],
   "source": [
    "# Reduced System\n",
    "# No Trans and Rot DOF for node 1 and no trans DOF for node 3\n",
    "#Kred = Matrix([[K[2:4,2:4],K[2:4,-1]],[K[-1,2:4],K[-1,-1]]])\n",
    "A = Matrix([[K[2:4,2:4]],[K[-1,2:4]]])\n",
    "B = Matrix([[K[2:4,-1]],[K[-1,-1]]])\n",
    "Kred = Matrix.hstack(A,B)\n",
    "Kred"
   ]
  },
  {
   "cell_type": "code",
   "execution_count": 39,
   "id": "e66c6132",
   "metadata": {},
   "outputs": [
    {
     "data": {
      "text/latex": [
       "$\\displaystyle \\left[\\begin{matrix}\\frac{A l \\rho}{2} & 0 & 0\\\\0 & 0 & 0\\\\0 & 0 & 0\\end{matrix}\\right]$"
      ],
      "text/plain": [
       "Matrix([\n",
       "[A*l*rho/2, 0, 0],\n",
       "[        0, 0, 0],\n",
       "[        0, 0, 0]])"
      ]
     },
     "execution_count": 39,
     "metadata": {},
     "output_type": "execute_result"
    }
   ],
   "source": [
    "C = Matrix([[M[2:4,2:4]],[M[-1,2:4]]])\n",
    "D = Matrix([[M[2:4,-1]],[M[-1,-1]]])\n",
    "Mred = Matrix.hstack(C,D)\n",
    "Mred"
   ]
  },
  {
   "cell_type": "code",
   "execution_count": 41,
   "id": "5b8e461f",
   "metadata": {},
   "outputs": [
    {
     "data": {
      "text/latex": [
       "$\\displaystyle \\frac{- 56 A E^{2} I^{2} l^{4} \\omega^{2} \\rho + 12288 E^{3} I^{3}}{l^{5}}$"
      ],
      "text/plain": [
       "(-56*A*E**2*I**2*l**4*omega**2*rho + 12288*E**3*I**3)/l**5"
      ]
     },
     "execution_count": 41,
     "metadata": {},
     "output_type": "execute_result"
    }
   ],
   "source": [
    "# Eigenvalue problem\n",
    "omg = symbols('omega') # Eigenvalues of the system\n",
    "evp = Kred - (omg**2)*Mred\n",
    "evp.det()"
   ]
  },
  {
   "cell_type": "markdown",
   "id": "735a698c",
   "metadata": {},
   "source": [
    "### Case 2\n"
   ]
  },
  {
   "cell_type": "code",
   "execution_count": 42,
   "id": "5797bade",
   "metadata": {},
   "outputs": [
    {
     "data": {
      "text/latex": [
       "$\\displaystyle \\left[\\begin{matrix}\\frac{324 E I}{l^{3}} & \\frac{54 E I}{l^{2}} & - \\frac{324 E I}{l^{3}} & \\frac{54 E I}{l^{2}}\\\\\\frac{54 E I}{l^{2}} & \\frac{12 E I}{l} & - \\frac{54 E I}{l^{2}} & \\frac{6 E I}{l}\\\\- \\frac{324 E I}{l^{3}} & - \\frac{54 E I}{l^{2}} & \\frac{324 E I}{l^{3}} & - \\frac{54 E I}{l^{2}}\\\\\\frac{54 E I}{l^{2}} & \\frac{6 E I}{l} & - \\frac{54 E I}{l^{2}} & \\frac{12 E I}{l}\\end{matrix}\\right]$"
      ],
      "text/plain": [
       "Matrix([\n",
       "[ 324*E*I/l**3,  54*E*I/l**2, -324*E*I/l**3,  54*E*I/l**2],\n",
       "[  54*E*I/l**2,     12*E*I/l,  -54*E*I/l**2,      6*E*I/l],\n",
       "[-324*E*I/l**3, -54*E*I/l**2,  324*E*I/l**3, -54*E*I/l**2],\n",
       "[  54*E*I/l**2,      6*E*I/l,  -54*E*I/l**2,     12*E*I/l]])"
      ]
     },
     "execution_count": 42,
     "metadata": {},
     "output_type": "execute_result"
    }
   ],
   "source": [
    "# Element 1\n",
    "K1 = stiffness(Rational(1,3))\n",
    "M1 = lumpedMass(Rational(1,3))\n",
    "K1"
   ]
  },
  {
   "cell_type": "code",
   "execution_count": 44,
   "id": "006b4dc8",
   "metadata": {},
   "outputs": [
    {
     "data": {
      "text/latex": [
       "$\\displaystyle \\left[\\begin{matrix}\\frac{81 E I}{2 l^{3}} & \\frac{27 E I}{2 l^{2}} & - \\frac{81 E I}{2 l^{3}} & \\frac{27 E I}{2 l^{2}}\\\\\\frac{27 E I}{2 l^{2}} & \\frac{6 E I}{l} & - \\frac{27 E I}{2 l^{2}} & \\frac{3 E I}{l}\\\\- \\frac{81 E I}{2 l^{3}} & - \\frac{27 E I}{2 l^{2}} & \\frac{81 E I}{2 l^{3}} & - \\frac{27 E I}{2 l^{2}}\\\\\\frac{27 E I}{2 l^{2}} & \\frac{3 E I}{l} & - \\frac{27 E I}{2 l^{2}} & \\frac{6 E I}{l}\\end{matrix}\\right]$"
      ],
      "text/plain": [
       "Matrix([\n",
       "[ 81*E*I/(2*l**3),  27*E*I/(2*l**2), -81*E*I/(2*l**3),  27*E*I/(2*l**2)],\n",
       "[ 27*E*I/(2*l**2),          6*E*I/l, -27*E*I/(2*l**2),          3*E*I/l],\n",
       "[-81*E*I/(2*l**3), -27*E*I/(2*l**2),  81*E*I/(2*l**3), -27*E*I/(2*l**2)],\n",
       "[ 27*E*I/(2*l**2),          3*E*I/l, -27*E*I/(2*l**2),          6*E*I/l]])"
      ]
     },
     "execution_count": 44,
     "metadata": {},
     "output_type": "execute_result"
    }
   ],
   "source": [
    "# Element 2\n",
    "K2 = stiffness(Rational(2,3))\n",
    "M2 = lumpedMass(Rational(2,3))\n",
    "K2"
   ]
  },
  {
   "cell_type": "code",
   "execution_count": 45,
   "id": "8e191975",
   "metadata": {},
   "outputs": [
    {
     "data": {
      "text/latex": [
       "$\\displaystyle \\left[\\begin{matrix}\\frac{324 E I}{l^{3}} & \\frac{54 E I}{l^{2}} & - \\frac{324 E I}{l^{3}} & \\frac{54 E I}{l^{2}} & 0 & 0\\\\\\frac{54 E I}{l^{2}} & \\frac{12 E I}{l} & - \\frac{54 E I}{l^{2}} & \\frac{6 E I}{l} & 0 & 0\\\\- \\frac{324 E I}{l^{3}} & - \\frac{54 E I}{l^{2}} & \\frac{729 E I}{2 l^{3}} & - \\frac{81 E I}{2 l^{2}} & - \\frac{81 E I}{2 l^{3}} & \\frac{27 E I}{2 l^{2}}\\\\\\frac{54 E I}{l^{2}} & \\frac{6 E I}{l} & - \\frac{81 E I}{2 l^{2}} & \\frac{18 E I}{l} & - \\frac{27 E I}{2 l^{2}} & \\frac{3 E I}{l}\\\\0 & 0 & - \\frac{81 E I}{2 l^{3}} & - \\frac{27 E I}{2 l^{2}} & \\frac{81 E I}{2 l^{3}} & - \\frac{27 E I}{2 l^{2}}\\\\0 & 0 & \\frac{27 E I}{2 l^{2}} & \\frac{3 E I}{l} & - \\frac{27 E I}{2 l^{2}} & \\frac{6 E I}{l}\\end{matrix}\\right]$"
      ],
      "text/plain": [
       "Matrix([\n",
       "[ 324*E*I/l**3,  54*E*I/l**2,    -324*E*I/l**3,      54*E*I/l**2,                0,                0],\n",
       "[  54*E*I/l**2,     12*E*I/l,     -54*E*I/l**2,          6*E*I/l,                0,                0],\n",
       "[-324*E*I/l**3, -54*E*I/l**2, 729*E*I/(2*l**3), -81*E*I/(2*l**2), -81*E*I/(2*l**3),  27*E*I/(2*l**2)],\n",
       "[  54*E*I/l**2,      6*E*I/l, -81*E*I/(2*l**2),         18*E*I/l, -27*E*I/(2*l**2),          3*E*I/l],\n",
       "[            0,            0, -81*E*I/(2*l**3), -27*E*I/(2*l**2),  81*E*I/(2*l**3), -27*E*I/(2*l**2)],\n",
       "[            0,            0,  27*E*I/(2*l**2),          3*E*I/l, -27*E*I/(2*l**2),          6*E*I/l]])"
      ]
     },
     "execution_count": 45,
     "metadata": {},
     "output_type": "execute_result"
    }
   ],
   "source": [
    "# Assembled Stiffness Matrix\n",
    "K = Matrix([[K1[0:2,:],zeros(2,2)],[K1[2:,0:2],K1[2:,2:] + K2[0:2,0:2],K2[0:2,2:]],[zeros(2,2),K2[2:,:]]])\n",
    "K"
   ]
  },
  {
   "cell_type": "code",
   "execution_count": 46,
   "id": "a63d3461",
   "metadata": {},
   "outputs": [
    {
     "data": {
      "text/latex": [
       "$\\displaystyle \\left[\\begin{matrix}\\frac{A l \\rho}{6} & 0 & 0 & 0 & 0 & 0\\\\0 & 0 & 0 & 0 & 0 & 0\\\\0 & 0 & \\frac{A l \\rho}{2} & 0 & 0 & 0\\\\0 & 0 & 0 & 0 & 0 & 0\\\\0 & 0 & 0 & 0 & \\frac{A l \\rho}{3} & 0\\\\0 & 0 & 0 & 0 & 0 & 0\\end{matrix}\\right]$"
      ],
      "text/plain": [
       "Matrix([\n",
       "[A*l*rho/6, 0,         0, 0,         0, 0],\n",
       "[        0, 0,         0, 0,         0, 0],\n",
       "[        0, 0, A*l*rho/2, 0,         0, 0],\n",
       "[        0, 0,         0, 0,         0, 0],\n",
       "[        0, 0,         0, 0, A*l*rho/3, 0],\n",
       "[        0, 0,         0, 0,         0, 0]])"
      ]
     },
     "execution_count": 46,
     "metadata": {},
     "output_type": "execute_result"
    }
   ],
   "source": [
    "# Assembled Mass Matrix\n",
    "m = symbols('M')\n",
    "M = Matrix([[M1[0:2,:],zeros(2,2)],[M1[2:,0:2],M1[2:,2:] + M2[0:2,0:2],M2[0:2,2:]],[zeros(2,2),M2[2:,:]]])\n",
    "M"
   ]
  },
  {
   "cell_type": "code",
   "execution_count": 47,
   "id": "3d262e5b",
   "metadata": {},
   "outputs": [
    {
     "data": {
      "text/latex": [
       "$\\displaystyle \\left[\\begin{matrix}\\frac{729 E I}{2 l^{3}} & - \\frac{81 E I}{2 l^{2}} & \\frac{27 E I}{2 l^{2}}\\\\- \\frac{81 E I}{2 l^{2}} & \\frac{18 E I}{l} & \\frac{3 E I}{l}\\\\\\frac{27 E I}{2 l^{2}} & \\frac{3 E I}{l} & \\frac{6 E I}{l}\\end{matrix}\\right]$"
      ],
      "text/plain": [
       "Matrix([\n",
       "[729*E*I/(2*l**3), -81*E*I/(2*l**2), 27*E*I/(2*l**2)],\n",
       "[-81*E*I/(2*l**2),         18*E*I/l,         3*E*I/l],\n",
       "[ 27*E*I/(2*l**2),          3*E*I/l,         6*E*I/l]])"
      ]
     },
     "execution_count": 47,
     "metadata": {},
     "output_type": "execute_result"
    }
   ],
   "source": [
    "# Reduced System\n",
    "# No Trans and Rot DOF for node 1 and no trans DOF for node 3\n",
    "#Kred = Matrix([[K[2:4,2:4],K[2:4,-1]],[K[-1,2:4],K[-1,-1]]])\n",
    "A = Matrix([[K[2:4,2:4]],[K[-1,2:4]]])\n",
    "B = Matrix([[K[2:4,-1]],[K[-1,-1]]])\n",
    "Kred = Matrix.hstack(A,B)\n",
    "Kred"
   ]
  },
  {
   "cell_type": "code",
   "execution_count": 48,
   "id": "9d88f129",
   "metadata": {},
   "outputs": [
    {
     "data": {
      "text/latex": [
       "$\\displaystyle \\left[\\begin{matrix}\\frac{A l \\rho}{2} & 0 & 0\\\\0 & 0 & 0\\\\0 & 0 & 0\\end{matrix}\\right]$"
      ],
      "text/plain": [
       "Matrix([\n",
       "[A*l*rho/2, 0, 0],\n",
       "[        0, 0, 0],\n",
       "[        0, 0, 0]])"
      ]
     },
     "execution_count": 48,
     "metadata": {},
     "output_type": "execute_result"
    }
   ],
   "source": [
    "C = Matrix([[M[2:4,2:4]],[M[-1,2:4]]])\n",
    "D = Matrix([[M[2:4,-1]],[M[-1,-1]]])\n",
    "Mred = Matrix.hstack(C,D)\n",
    "Mred"
   ]
  },
  {
   "cell_type": "code",
   "execution_count": 49,
   "id": "0f5ffb6b",
   "metadata": {},
   "outputs": [
    {
     "data": {
      "text/latex": [
       "$\\displaystyle \\frac{- 99 A E^{2} I^{2} l^{4} \\omega^{2} \\rho + 39366 E^{3} I^{3}}{2 l^{5}}$"
      ],
      "text/plain": [
       "(-99*A*E**2*I**2*l**4*omega**2*rho + 39366*E**3*I**3)/(2*l**5)"
      ]
     },
     "execution_count": 49,
     "metadata": {},
     "output_type": "execute_result"
    }
   ],
   "source": [
    "# Eigenvalue problem\n",
    "omg = symbols('omega') # Eigenvalues of the system\n",
    "evp = Kred - (omg**2)*Mred\n",
    "evp.det()"
   ]
  },
  {
   "cell_type": "markdown",
   "id": "81a7542a",
   "metadata": {},
   "source": [
    "### Case 3"
   ]
  },
  {
   "cell_type": "code",
   "execution_count": 50,
   "id": "cc802e0a",
   "metadata": {},
   "outputs": [
    {
     "data": {
      "text/latex": [
       "$\\displaystyle \\left[\\begin{matrix}\\frac{81 E I}{2 l^{3}} & \\frac{27 E I}{2 l^{2}} & - \\frac{81 E I}{2 l^{3}} & \\frac{27 E I}{2 l^{2}}\\\\\\frac{27 E I}{2 l^{2}} & \\frac{6 E I}{l} & - \\frac{27 E I}{2 l^{2}} & \\frac{3 E I}{l}\\\\- \\frac{81 E I}{2 l^{3}} & - \\frac{27 E I}{2 l^{2}} & \\frac{81 E I}{2 l^{3}} & - \\frac{27 E I}{2 l^{2}}\\\\\\frac{27 E I}{2 l^{2}} & \\frac{3 E I}{l} & - \\frac{27 E I}{2 l^{2}} & \\frac{6 E I}{l}\\end{matrix}\\right]$"
      ],
      "text/plain": [
       "Matrix([\n",
       "[ 81*E*I/(2*l**3),  27*E*I/(2*l**2), -81*E*I/(2*l**3),  27*E*I/(2*l**2)],\n",
       "[ 27*E*I/(2*l**2),          6*E*I/l, -27*E*I/(2*l**2),          3*E*I/l],\n",
       "[-81*E*I/(2*l**3), -27*E*I/(2*l**2),  81*E*I/(2*l**3), -27*E*I/(2*l**2)],\n",
       "[ 27*E*I/(2*l**2),          3*E*I/l, -27*E*I/(2*l**2),          6*E*I/l]])"
      ]
     },
     "execution_count": 50,
     "metadata": {},
     "output_type": "execute_result"
    }
   ],
   "source": [
    "# Element 1\n",
    "K1 = stiffness(Rational(2,3))\n",
    "M1 = lumpedMass(Rational(2,3))\n",
    "K1"
   ]
  },
  {
   "cell_type": "code",
   "execution_count": 51,
   "id": "76a775ad",
   "metadata": {},
   "outputs": [
    {
     "data": {
      "text/latex": [
       "$\\displaystyle \\left[\\begin{matrix}\\frac{324 E I}{l^{3}} & \\frac{54 E I}{l^{2}} & - \\frac{324 E I}{l^{3}} & \\frac{54 E I}{l^{2}}\\\\\\frac{54 E I}{l^{2}} & \\frac{12 E I}{l} & - \\frac{54 E I}{l^{2}} & \\frac{6 E I}{l}\\\\- \\frac{324 E I}{l^{3}} & - \\frac{54 E I}{l^{2}} & \\frac{324 E I}{l^{3}} & - \\frac{54 E I}{l^{2}}\\\\\\frac{54 E I}{l^{2}} & \\frac{6 E I}{l} & - \\frac{54 E I}{l^{2}} & \\frac{12 E I}{l}\\end{matrix}\\right]$"
      ],
      "text/plain": [
       "Matrix([\n",
       "[ 324*E*I/l**3,  54*E*I/l**2, -324*E*I/l**3,  54*E*I/l**2],\n",
       "[  54*E*I/l**2,     12*E*I/l,  -54*E*I/l**2,      6*E*I/l],\n",
       "[-324*E*I/l**3, -54*E*I/l**2,  324*E*I/l**3, -54*E*I/l**2],\n",
       "[  54*E*I/l**2,      6*E*I/l,  -54*E*I/l**2,     12*E*I/l]])"
      ]
     },
     "execution_count": 51,
     "metadata": {},
     "output_type": "execute_result"
    }
   ],
   "source": [
    "# Element 2\n",
    "K2 = stiffness(Rational(1,3))\n",
    "M2 = lumpedMass(Rational(1,3))\n",
    "K2"
   ]
  },
  {
   "cell_type": "code",
   "execution_count": 52,
   "id": "047408eb",
   "metadata": {},
   "outputs": [
    {
     "data": {
      "text/latex": [
       "$\\displaystyle \\left[\\begin{matrix}\\frac{81 E I}{2 l^{3}} & \\frac{27 E I}{2 l^{2}} & - \\frac{81 E I}{2 l^{3}} & \\frac{27 E I}{2 l^{2}} & 0 & 0\\\\\\frac{27 E I}{2 l^{2}} & \\frac{6 E I}{l} & - \\frac{27 E I}{2 l^{2}} & \\frac{3 E I}{l} & 0 & 0\\\\- \\frac{81 E I}{2 l^{3}} & - \\frac{27 E I}{2 l^{2}} & \\frac{729 E I}{2 l^{3}} & \\frac{81 E I}{2 l^{2}} & - \\frac{324 E I}{l^{3}} & \\frac{54 E I}{l^{2}}\\\\\\frac{27 E I}{2 l^{2}} & \\frac{3 E I}{l} & \\frac{81 E I}{2 l^{2}} & \\frac{18 E I}{l} & - \\frac{54 E I}{l^{2}} & \\frac{6 E I}{l}\\\\0 & 0 & - \\frac{324 E I}{l^{3}} & - \\frac{54 E I}{l^{2}} & \\frac{324 E I}{l^{3}} & - \\frac{54 E I}{l^{2}}\\\\0 & 0 & \\frac{54 E I}{l^{2}} & \\frac{6 E I}{l} & - \\frac{54 E I}{l^{2}} & \\frac{12 E I}{l}\\end{matrix}\\right]$"
      ],
      "text/plain": [
       "Matrix([\n",
       "[ 81*E*I/(2*l**3),  27*E*I/(2*l**2), -81*E*I/(2*l**3), 27*E*I/(2*l**2),             0,            0],\n",
       "[ 27*E*I/(2*l**2),          6*E*I/l, -27*E*I/(2*l**2),         3*E*I/l,             0,            0],\n",
       "[-81*E*I/(2*l**3), -27*E*I/(2*l**2), 729*E*I/(2*l**3), 81*E*I/(2*l**2), -324*E*I/l**3,  54*E*I/l**2],\n",
       "[ 27*E*I/(2*l**2),          3*E*I/l,  81*E*I/(2*l**2),        18*E*I/l,  -54*E*I/l**2,      6*E*I/l],\n",
       "[               0,                0,    -324*E*I/l**3,    -54*E*I/l**2,  324*E*I/l**3, -54*E*I/l**2],\n",
       "[               0,                0,      54*E*I/l**2,         6*E*I/l,  -54*E*I/l**2,     12*E*I/l]])"
      ]
     },
     "execution_count": 52,
     "metadata": {},
     "output_type": "execute_result"
    }
   ],
   "source": [
    "# Assembled Stiffness Matrix\n",
    "K = Matrix([[K1[0:2,:],zeros(2,2)],[K1[2:,0:2],K1[2:,2:] + K2[0:2,0:2],K2[0:2,2:]],[zeros(2,2),K2[2:,:]]])\n",
    "K"
   ]
  },
  {
   "cell_type": "code",
   "execution_count": 53,
   "id": "8b4ea17d",
   "metadata": {},
   "outputs": [
    {
     "data": {
      "text/latex": [
       "$\\displaystyle \\left[\\begin{matrix}\\frac{A l \\rho}{3} & 0 & 0 & 0 & 0 & 0\\\\0 & 0 & 0 & 0 & 0 & 0\\\\0 & 0 & \\frac{A l \\rho}{2} & 0 & 0 & 0\\\\0 & 0 & 0 & 0 & 0 & 0\\\\0 & 0 & 0 & 0 & \\frac{A l \\rho}{6} & 0\\\\0 & 0 & 0 & 0 & 0 & 0\\end{matrix}\\right]$"
      ],
      "text/plain": [
       "Matrix([\n",
       "[A*l*rho/3, 0,         0, 0,         0, 0],\n",
       "[        0, 0,         0, 0,         0, 0],\n",
       "[        0, 0, A*l*rho/2, 0,         0, 0],\n",
       "[        0, 0,         0, 0,         0, 0],\n",
       "[        0, 0,         0, 0, A*l*rho/6, 0],\n",
       "[        0, 0,         0, 0,         0, 0]])"
      ]
     },
     "execution_count": 53,
     "metadata": {},
     "output_type": "execute_result"
    }
   ],
   "source": [
    "# Assembled Mass Matrix\n",
    "m = symbols('M')\n",
    "M = Matrix([[M1[0:2,:],zeros(2,2)],[M1[2:,0:2],M1[2:,2:] + M2[0:2,0:2],M2[0:2,2:]],[zeros(2,2),M2[2:,:]]])\n",
    "M"
   ]
  },
  {
   "cell_type": "code",
   "execution_count": 54,
   "id": "198ede73",
   "metadata": {},
   "outputs": [
    {
     "data": {
      "text/latex": [
       "$\\displaystyle \\left[\\begin{matrix}\\frac{729 E I}{2 l^{3}} & \\frac{81 E I}{2 l^{2}} & \\frac{54 E I}{l^{2}}\\\\\\frac{81 E I}{2 l^{2}} & \\frac{18 E I}{l} & \\frac{6 E I}{l}\\\\\\frac{54 E I}{l^{2}} & \\frac{6 E I}{l} & \\frac{12 E I}{l}\\end{matrix}\\right]$"
      ],
      "text/plain": [
       "Matrix([\n",
       "[729*E*I/(2*l**3), 81*E*I/(2*l**2), 54*E*I/l**2],\n",
       "[ 81*E*I/(2*l**2),        18*E*I/l,     6*E*I/l],\n",
       "[     54*E*I/l**2,         6*E*I/l,    12*E*I/l]])"
      ]
     },
     "execution_count": 54,
     "metadata": {},
     "output_type": "execute_result"
    }
   ],
   "source": [
    "# Reduced System\n",
    "# No Trans and Rot DOF for node 1 and no trans DOF for node 3\n",
    "#Kred = Matrix([[K[2:4,2:4],K[2:4,-1]],[K[-1,2:4],K[-1,-1]]])\n",
    "A = Matrix([[K[2:4,2:4]],[K[-1,2:4]]])\n",
    "B = Matrix([[K[2:4,-1]],[K[-1,-1]]])\n",
    "Kred = Matrix.hstack(A,B)\n",
    "Kred"
   ]
  },
  {
   "cell_type": "code",
   "execution_count": 55,
   "id": "a1251dc6",
   "metadata": {},
   "outputs": [
    {
     "data": {
      "text/latex": [
       "$\\displaystyle \\left[\\begin{matrix}\\frac{A l \\rho}{2} & 0 & 0\\\\0 & 0 & 0\\\\0 & 0 & 0\\end{matrix}\\right]$"
      ],
      "text/plain": [
       "Matrix([\n",
       "[A*l*rho/2, 0, 0],\n",
       "[        0, 0, 0],\n",
       "[        0, 0, 0]])"
      ]
     },
     "execution_count": 55,
     "metadata": {},
     "output_type": "execute_result"
    }
   ],
   "source": [
    "C = Matrix([[M[2:4,2:4]],[M[-1,2:4]]])\n",
    "D = Matrix([[M[2:4,-1]],[M[-1,-1]]])\n",
    "Mred = Matrix.hstack(C,D)\n",
    "Mred"
   ]
  },
  {
   "cell_type": "code",
   "execution_count": 56,
   "id": "3218a2b5",
   "metadata": {},
   "outputs": [
    {
     "data": {
      "text/latex": [
       "$\\displaystyle \\frac{- 90 A E^{2} I^{2} l^{4} \\omega^{2} \\rho + 19683 E^{3} I^{3}}{l^{5}}$"
      ],
      "text/plain": [
       "(-90*A*E**2*I**2*l**4*omega**2*rho + 19683*E**3*I**3)/l**5"
      ]
     },
     "execution_count": 56,
     "metadata": {},
     "output_type": "execute_result"
    }
   ],
   "source": [
    "# Eigenvalue problem\n",
    "omg = symbols('omega') # Eigenvalues of the system\n",
    "evp = Kred - (omg**2)*Mred\n",
    "evp.det()"
   ]
  },
  {
   "cell_type": "markdown",
   "id": "79f6f98d",
   "metadata": {},
   "source": [
    "## Question 4\n",
    "\n",
    "3 Node truss element with node 1 fixed.\n",
    "2nd Order element so the shape functions will be quadratic.\n",
    "Shape functions belong to the *Lagrange Family*"
   ]
  },
  {
   "cell_type": "code",
   "execution_count": 83,
   "id": "d9c113b4",
   "metadata": {},
   "outputs": [
    {
     "data": {
      "text/latex": [
       "$\\displaystyle \\left[\\begin{matrix}1 - \\frac{3 x}{L} + \\frac{2 x^{2}}{L^{2}} & \\frac{4 x}{L} - \\frac{4 x^{2}}{L^{2}} & - \\frac{x}{L} + \\frac{2 x^{2}}{L^{2}}\\end{matrix}\\right]$"
      ],
      "text/plain": [
       "Matrix([[1 - 3*x/L + 2*x**2/L**2, 4*x/L - 4*x**2/L**2, -x/L + 2*x**2/L**2]])"
      ]
     },
     "execution_count": 83,
     "metadata": {},
     "output_type": "execute_result"
    }
   ],
   "source": [
    "x,a,E = symbols('x A E')\n",
    "# Shape Function Vector\n",
    "A = 2*(x**2/l**2) - 3*(x/l) + 1\n",
    "B = 4*(x/l) - 4*(x**2/l**2)\n",
    "C = 2*(x**2/l**2) - x/l\n",
    "N = Matrix([[A,B,C]])\n",
    "N"
   ]
  },
  {
   "cell_type": "code",
   "execution_count": 78,
   "id": "4165873f",
   "metadata": {},
   "outputs": [
    {
     "data": {
      "text/plain": [
       "int"
      ]
     },
     "execution_count": 78,
     "metadata": {},
     "output_type": "execute_result"
    }
   ],
   "source": [
    "# Consistent Mass Matrix\n",
    "M = row*a*syms.integrate(N.T*N,(x,0,l))\n",
    "M"
   ]
  },
  {
   "cell_type": "code",
   "execution_count": 79,
   "id": "5b35e1f4",
   "metadata": {},
   "outputs": [],
   "source": [
    "# Function for lumping of a consistent mass matrix\n",
    "def lumping(Mcon):\n",
    "    Mlumped = zeros(Mcon.shape[0])\n",
    "    for i in range(0,Mcon.shape[0]):\n",
    "        Mlumped[i,i] = np.sum(Mcon[i,:])\n",
    "\n",
    "    return Mlumped"
   ]
  },
  {
   "cell_type": "code",
   "execution_count": 80,
   "id": "01b0cd6f",
   "metadata": {},
   "outputs": [
    {
     "data": {
      "text/latex": [
       "$\\displaystyle \\left[\\begin{matrix}\\frac{A L \\rho}{6} & 0 & 0\\\\0 & \\frac{2 A L \\rho}{3} & 0\\\\0 & 0 & \\frac{A L \\rho}{6}\\end{matrix}\\right]$"
      ],
      "text/plain": [
       "Matrix([\n",
       "[A*L*rho/6,           0,         0],\n",
       "[        0, 2*A*L*rho/3,         0],\n",
       "[        0,           0, A*L*rho/6]])"
      ]
     },
     "execution_count": 80,
     "metadata": {},
     "output_type": "execute_result"
    }
   ],
   "source": [
    "# Lumped Mass Matrix\n",
    "Mlump = lumping(M)\n",
    "Mlump"
   ]
  },
  {
   "cell_type": "code",
   "execution_count": 85,
   "id": "132ad8a4",
   "metadata": {},
   "outputs": [
    {
     "data": {
      "text/latex": [
       "$\\displaystyle \\left[\\begin{matrix}\\frac{7 A E}{3 L} & - \\frac{8 A E}{3 L} & \\frac{A E}{3 L}\\\\- \\frac{8 A E}{3 L} & \\frac{16 A E}{3 L} & - \\frac{8 A E}{3 L}\\\\\\frac{A E}{3 L} & - \\frac{8 A E}{3 L} & \\frac{7 A E}{3 L}\\end{matrix}\\right]$"
      ],
      "text/plain": [
       "Matrix([\n",
       "[ 7*A*E/(3*L), -8*A*E/(3*L),    A*E/(3*L)],\n",
       "[-8*A*E/(3*L), 16*A*E/(3*L), -8*A*E/(3*L)],\n",
       "[   A*E/(3*L), -8*A*E/(3*L),  7*A*E/(3*L)]])"
      ]
     },
     "execution_count": 85,
     "metadata": {},
     "output_type": "execute_result"
    }
   ],
   "source": [
    "# Given Stiffness Matrix\n",
    "K = (E*a/(3*l))*Matrix([[7,-8,1],[-8,16,-8],[1,-8,7]])\n",
    "K"
   ]
  },
  {
   "cell_type": "code",
   "execution_count": 88,
   "id": "91617aa5",
   "metadata": {},
   "outputs": [
    {
     "data": {
      "text/latex": [
       "$\\displaystyle \\left[\\begin{matrix}\\frac{2 A L \\rho}{3} & 0\\\\0 & \\frac{A L \\rho}{6}\\end{matrix}\\right]$"
      ],
      "text/plain": [
       "Matrix([\n",
       "[2*A*L*rho/3,         0],\n",
       "[          0, A*L*rho/6]])"
      ]
     },
     "execution_count": 88,
     "metadata": {},
     "output_type": "execute_result"
    }
   ],
   "source": [
    "# Reduced System (Node 1 is fixed)\n",
    "Kred = K[1:,1:]\n",
    "Mred = Mlump[1:,1:]\n",
    "Mred"
   ]
  },
  {
   "cell_type": "code",
   "execution_count": 89,
   "id": "7b5d9599",
   "metadata": {},
   "outputs": [
    {
     "data": {
      "text/latex": [
       "$\\displaystyle \\frac{48 A^{2} E^{2} - 22 A^{2} E L^{2} \\omega^{2} \\rho + A^{2} L^{4} \\omega^{4} \\rho^{2}}{9 L^{2}}$"
      ],
      "text/plain": [
       "(48*A**2*E**2 - 22*A**2*E*L**2*omega**2*rho + A**2*L**4*omega**4*rho**2)/(9*L**2)"
      ]
     },
     "execution_count": 89,
     "metadata": {},
     "output_type": "execute_result"
    }
   ],
   "source": [
    "# Eigenvalue Problem\n",
    "omg = symbols('omega')\n",
    "evp = Kred - (omg**2)*Mred\n",
    "evp.det()"
   ]
  },
  {
   "cell_type": "markdown",
   "id": "b5a6ef70",
   "metadata": {},
   "source": [
    "## Question 5\n",
    "\n",
    "![sys](Images/3.jpg)"
   ]
  },
  {
   "cell_type": "code",
   "execution_count": 97,
   "id": "e14a98a6",
   "metadata": {},
   "outputs": [
    {
     "data": {
      "text/latex": [
       "$\\displaystyle \\left[\\begin{matrix}\\frac{24 E I}{l^{3}} & 0 & - \\frac{12 E I}{l^{3}} & \\frac{6 E I}{l^{2}}\\\\0 & \\frac{8 E I}{l} & - \\frac{6 E I}{l^{2}} & \\frac{2 E I}{l}\\\\- \\frac{12 E I}{l^{3}} & - \\frac{6 E I}{l^{2}} & \\frac{12 E I}{l^{3}} & - \\frac{6 E I}{l^{2}}\\\\\\frac{6 E I}{l^{2}} & \\frac{2 E I}{l} & - \\frac{6 E I}{l^{2}} & \\frac{4 E I}{l}\\end{matrix}\\right]$"
      ],
      "text/plain": [
       "Matrix([\n",
       "[ 24*E*I/l**3,           0, -12*E*I/l**3,  6*E*I/l**2],\n",
       "[           0,     8*E*I/l,  -6*E*I/l**2,     2*E*I/l],\n",
       "[-12*E*I/l**3, -6*E*I/l**2,  12*E*I/l**3, -6*E*I/l**2],\n",
       "[  6*E*I/l**2,     2*E*I/l,  -6*E*I/l**2,     4*E*I/l]])"
      ]
     },
     "execution_count": 97,
     "metadata": {},
     "output_type": "execute_result"
    }
   ],
   "source": [
    "# Reduced Stiffness Matrix\n",
    "K1 = stiffness(1)\n",
    "K2 = stiffness(1)\n",
    "K = Matrix([[K1[0:2,:],zeros(2,2)],[K1[2:,0:2],K1[2:,2:] + K2[0:2,0:2],K2[0:2,2:]],[zeros(2,2),K2[2:,:]]]) # Assembled Stiffness\n",
    "Kred = K[2:,2:] # Node 1 is fixed\n",
    "Kred"
   ]
  },
  {
   "cell_type": "code",
   "execution_count": 99,
   "id": "1c67c6ff",
   "metadata": {},
   "outputs": [
    {
     "data": {
      "text/latex": [
       "$\\displaystyle \\left[\\begin{matrix}A l \\rho & 0 & 0 & 0\\\\0 & 0 & 0 & 0\\\\0 & 0 & \\frac{A l \\rho}{2} & 0\\\\0 & 0 & 0 & 0\\end{matrix}\\right]$"
      ],
      "text/plain": [
       "Matrix([\n",
       "[A*l*rho, 0,         0, 0],\n",
       "[      0, 0,         0, 0],\n",
       "[      0, 0, A*l*rho/2, 0],\n",
       "[      0, 0,         0, 0]])"
      ]
     },
     "execution_count": 99,
     "metadata": {},
     "output_type": "execute_result"
    }
   ],
   "source": [
    "# Reduced Lumped Mass Matrix\n",
    "M1 = lumpedMass(1)\n",
    "M2 = lumpedMass(1)\n",
    "M = Matrix([[M1[0:2,:],zeros(2,2)],[M1[2:,0:2],M1[2:,2:] + M2[0:2,0:2],M2[0:2,2:]],[zeros(2,2),M2[2:,:]]]) # Assembled Mass\n",
    "Mred = M[2:,2:]\n",
    "Mred"
   ]
  },
  {
   "cell_type": "code",
   "execution_count": 100,
   "id": "648a6f63",
   "metadata": {},
   "outputs": [
    {
     "data": {
      "text/latex": [
       "$\\displaystyle \\frac{14 A^{2} E^{2} I^{2} l^{8} \\lambda^{2} \\rho^{2} - 240 A E^{3} I^{3} l^{4} \\lambda \\rho + 144 E^{4} I^{4}}{l^{8}}$"
      ],
      "text/plain": [
       "(14*A**2*E**2*I**2*l**8*lambda**2*rho**2 - 240*A*E**3*I**3*l**4*lambda*rho + 144*E**4*I**4)/l**8"
      ]
     },
     "execution_count": 100,
     "metadata": {},
     "output_type": "execute_result"
    }
   ],
   "source": [
    "# Eigenvalue problem\n",
    "evp = Kred - lbda*Mred\n",
    "evp.det()"
   ]
  },
  {
   "cell_type": "markdown",
   "id": "119ce43c",
   "metadata": {},
   "source": [
    "## Question 6\n",
    "\n",
    "![sys](Images/4.jpg)\n",
    "\n",
    "Eigenfrequency of the structure to be computed"
   ]
  },
  {
   "cell_type": "code",
   "execution_count": 123,
   "id": "651b7657",
   "metadata": {},
   "outputs": [
    {
     "data": {
      "text/latex": [
       "$\\displaystyle \\left[\\begin{matrix}\\frac{12 E I}{l^{3}} & \\frac{6 E I}{l^{2}} & - \\frac{12 E I}{l^{3}} & \\frac{6 E I}{l^{2}}\\\\\\frac{6 E I}{l^{2}} & \\frac{4 E I}{l} & - \\frac{6 E I}{l^{2}} & \\frac{2 E I}{l}\\\\- \\frac{12 E I}{l^{3}} & - \\frac{6 E I}{l^{2}} & \\frac{12 E I}{l^{3}} & - \\frac{6 E I}{l^{2}}\\\\\\frac{6 E I}{l^{2}} & \\frac{2 E I}{l} & - \\frac{6 E I}{l^{2}} & \\frac{4 E I}{l}\\end{matrix}\\right]$"
      ],
      "text/plain": [
       "Matrix([\n",
       "[ 12*E*I/l**3,  6*E*I/l**2, -12*E*I/l**3,  6*E*I/l**2],\n",
       "[  6*E*I/l**2,     4*E*I/l,  -6*E*I/l**2,     2*E*I/l],\n",
       "[-12*E*I/l**3, -6*E*I/l**2,  12*E*I/l**3, -6*E*I/l**2],\n",
       "[  6*E*I/l**2,     2*E*I/l,  -6*E*I/l**2,     4*E*I/l]])"
      ]
     },
     "execution_count": 123,
     "metadata": {},
     "output_type": "execute_result"
    }
   ],
   "source": [
    "# Beam Element\n",
    "mass,m,rho,A,l = symbols('M m rho A l')\n",
    "Kbeam = stiffness(1)\n",
    "Mbeam = lumpedMass(1)\n",
    "Mbeam = (m/(rho*A*l))*lumpedMass(1)\n",
    "Kbeam"
   ]
  },
  {
   "cell_type": "code",
   "execution_count": 120,
   "id": "4c9bfbfd",
   "metadata": {},
   "outputs": [
    {
     "data": {
      "text/latex": [
       "$\\displaystyle \\left[\\begin{matrix}k & - k\\\\- k & k\\end{matrix}\\right]$"
      ],
      "text/plain": [
       "Matrix([\n",
       "[ k, -k],\n",
       "[-k,  k]])"
      ]
     },
     "execution_count": 120,
     "metadata": {},
     "output_type": "execute_result"
    }
   ],
   "source": [
    "# Spring Element\n",
    "k = symbols('k')\n",
    "Kspring = k*Matrix([[1,-1],[-1,1]])\n",
    "Mspring = (m/2)*Matrix([[1,0],[0,1]])\n",
    "Kspring"
   ]
  },
  {
   "cell_type": "code",
   "execution_count": 121,
   "id": "855ee709",
   "metadata": {},
   "outputs": [
    {
     "data": {
      "text/latex": [
       "$\\displaystyle \\left[\\begin{matrix}\\frac{12 E I}{l^{3}} & \\frac{6 E I}{l^{2}} & - \\frac{12 E I}{l^{3}} & \\frac{6 E I}{l^{2}} & 0\\\\\\frac{6 E I}{l^{2}} & \\frac{4 E I}{l} & - \\frac{6 E I}{l^{2}} & \\frac{2 E I}{l} & 0\\\\- \\frac{12 E I}{l^{3}} & - \\frac{6 E I}{l^{2}} & \\frac{12 E I}{l^{3}} + k & - \\frac{6 E I}{l^{2}} & - k\\\\\\frac{6 E I}{l^{2}} & \\frac{2 E I}{l} & - \\frac{6 E I}{l^{2}} & \\frac{4 E I}{l} & 0\\\\0 & 0 & - k & 0 & k\\end{matrix}\\right]$"
      ],
      "text/plain": [
       "Matrix([\n",
       "[ 12*E*I/l**3,  6*E*I/l**2,    -12*E*I/l**3,  6*E*I/l**2,  0],\n",
       "[  6*E*I/l**2,     4*E*I/l,     -6*E*I/l**2,     2*E*I/l,  0],\n",
       "[-12*E*I/l**3, -6*E*I/l**2, 12*E*I/l**3 + k, -6*E*I/l**2, -k],\n",
       "[  6*E*I/l**2,     2*E*I/l,     -6*E*I/l**2,     4*E*I/l,  0],\n",
       "[           0,           0,              -k,           0,  k]])"
      ]
     },
     "execution_count": 121,
     "metadata": {},
     "output_type": "execute_result"
    }
   ],
   "source": [
    "# Assembled System \n",
    "K = Matrix.hstack(Kbeam,zeros(Kbeam.shape[0],1))\n",
    "K = Matrix.vstack(K,zeros(1,K.shape[1]))\n",
    "K[2,2] = K[2,2] + Kspring[0,0]\n",
    "K[2,-1] = Kspring[0,-1]\n",
    "K[-1,2] = Kspring[-1,0]\n",
    "K[-1,-1] = Kspring[-1,-1]\n",
    "K"
   ]
  },
  {
   "cell_type": "code",
   "execution_count": 124,
   "id": "88f11f6b",
   "metadata": {},
   "outputs": [
    {
     "data": {
      "text/latex": [
       "$\\displaystyle \\left[\\begin{matrix}\\frac{m}{2} & 0 & 0 & 0 & 0\\\\0 & 0 & 0 & 0 & 0\\\\0 & 0 & M + m & 0 & 0\\\\0 & 0 & 0 & 0 & 0\\\\0 & 0 & 0 & 0 & \\frac{m}{2}\\end{matrix}\\right]$"
      ],
      "text/plain": [
       "Matrix([\n",
       "[m/2, 0,     0, 0,   0],\n",
       "[  0, 0,     0, 0,   0],\n",
       "[  0, 0, M + m, 0,   0],\n",
       "[  0, 0,     0, 0,   0],\n",
       "[  0, 0,     0, 0, m/2]])"
      ]
     },
     "execution_count": 124,
     "metadata": {},
     "output_type": "execute_result"
    }
   ],
   "source": [
    "M = Matrix.hstack(Mbeam,zeros(Mbeam.shape[0],1))\n",
    "M = Matrix.vstack(M,zeros(1,M.shape[1]))\n",
    "M[2,2] = M[2,2] + Mspring[0,0] + mass\n",
    "M[2,-1] = Mspring[0,-1]\n",
    "M[-1,2] = Mspring[-1,0]\n",
    "M[-1,-1] = Mspring[-1,-1]\n",
    "M"
   ]
  },
  {
   "cell_type": "code",
   "execution_count": 127,
   "id": "cbeb8356",
   "metadata": {},
   "outputs": [
    {
     "data": {
      "text/latex": [
       "$\\displaystyle \\left[\\begin{matrix}M + m & 0\\\\0 & 0\\end{matrix}\\right]$"
      ],
      "text/plain": [
       "Matrix([\n",
       "[M + m, 0],\n",
       "[    0, 0]])"
      ]
     },
     "execution_count": 127,
     "metadata": {},
     "output_type": "execute_result"
    }
   ],
   "source": [
    "# Reduced System\n",
    "# Node 1 and Node 3 are both fixed\n",
    "Kred = K[2:4,2:4]\n",
    "Mred = M[2:4,2:4]\n",
    "Mred"
   ]
  },
  {
   "cell_type": "code",
   "execution_count": 128,
   "id": "d417178b",
   "metadata": {},
   "outputs": [
    {
     "data": {
      "text/latex": [
       "$\\displaystyle \\frac{12 E^{2} I^{2} - 4 E I M l^{3} \\omega^{2} + 4 E I k l^{3} - 4 E I l^{3} m \\omega^{2}}{l^{4}}$"
      ],
      "text/plain": [
       "(12*E**2*I**2 - 4*E*I*M*l**3*omega**2 + 4*E*I*k*l**3 - 4*E*I*l**3*m*omega**2)/l**4"
      ]
     },
     "execution_count": 128,
     "metadata": {},
     "output_type": "execute_result"
    }
   ],
   "source": [
    "# Eigenvalue Problem\n",
    "evp = Kred - (omg**2)*Mred\n",
    "evp.det()"
   ]
  },
  {
   "cell_type": "code",
   "execution_count": null,
   "id": "332a4b71",
   "metadata": {},
   "outputs": [],
   "source": []
  }
 ],
 "metadata": {
  "kernelspec": {
   "display_name": "Python 3 (ipykernel)",
   "language": "python",
   "name": "python3"
  },
  "language_info": {
   "codemirror_mode": {
    "name": "ipython",
    "version": 3
   },
   "file_extension": ".py",
   "mimetype": "text/x-python",
   "name": "python",
   "nbconvert_exporter": "python",
   "pygments_lexer": "ipython3",
   "version": "3.8.12"
  }
 },
 "nbformat": 4,
 "nbformat_minor": 5
}
