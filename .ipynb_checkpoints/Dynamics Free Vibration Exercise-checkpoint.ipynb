{
 "cells": [
  {
   "cell_type": "code",
   "execution_count": 27,
   "id": "2ea41f5e",
   "metadata": {},
   "outputs": [],
   "source": [
    "import sympy as syms\n",
    "import numpy as np\n",
    "import math\n",
    "\n",
    "from sympy import symbols\n",
    "from sympy import Matrix\n",
    "from sympy import latex\n",
    "from sympy import solve\n",
    "from sympy.matrices import eye, zeros, ones, Identity # Special matrices (eye creates explicit matrix, Identity creates matrix expression)"
   ]
  },
  {
   "cell_type": "markdown",
   "id": "b79c856f",
   "metadata": {},
   "source": [
    "## Question 1\n",
    "3-Node Truss Element, with shape function matrix given.\n",
    "To find:\n",
    "* Consistent Fully occupied mass matrix\n",
    "* Lumped Mass Matrix"
   ]
  },
  {
   "cell_type": "code",
   "execution_count": 9,
   "id": "dfbf63bd",
   "metadata": {},
   "outputs": [
    {
     "data": {
      "text/latex": [
       "$\\displaystyle \\left[\\begin{matrix}1 - \\frac{3 x}{L} + \\frac{2 x^{2}}{L^{2}} & \\frac{4 x}{L} - \\frac{4 x^{2}}{L^{2}} & - \\frac{x}{L} + \\frac{2 x^{2}}{L^{2}}\\end{matrix}\\right]$"
      ],
      "text/plain": [
       "Matrix([[1 - 3*x/L + 2*x**2/L**2, 4*x/L - 4*x**2/L**2, -x/L + 2*x**2/L**2]])"
      ]
     },
     "execution_count": 9,
     "metadata": {},
     "output_type": "execute_result"
    }
   ],
   "source": [
    "x,l,row,A = symbols('x L rho A')\n",
    "N = Matrix([[1 - 3*(x/l) + 2*(x**2/l**2),4*(x/l) - 4*(x**2/l**2),-(x/l) + 2*(x**2/l**2)]])\n",
    "N # Shape Function Matrix"
   ]
  },
  {
   "cell_type": "code",
   "execution_count": 13,
   "id": "f2760698",
   "metadata": {},
   "outputs": [
    {
     "data": {
      "text/latex": [
       "$\\displaystyle \\left[\\begin{matrix}\\frac{2 A L \\rho}{15} & \\frac{A L \\rho}{15} & - \\frac{A L \\rho}{30}\\\\\\frac{A L \\rho}{15} & \\frac{8 A L \\rho}{15} & \\frac{A L \\rho}{15}\\\\- \\frac{A L \\rho}{30} & \\frac{A L \\rho}{15} & \\frac{2 A L \\rho}{15}\\end{matrix}\\right]$"
      ],
      "text/plain": [
       "Matrix([\n",
       "[2*A*L*rho/15,   A*L*rho/15,  -A*L*rho/30],\n",
       "[  A*L*rho/15, 8*A*L*rho/15,   A*L*rho/15],\n",
       "[ -A*L*rho/30,   A*L*rho/15, 2*A*L*rho/15]])"
      ]
     },
     "execution_count": 13,
     "metadata": {},
     "output_type": "execute_result"
    }
   ],
   "source": [
    "# Consistent Mass Matrix\n",
    "M = row*A*syms.integrate(N.T*N,(x,0,l))\n",
    "M"
   ]
  },
  {
   "cell_type": "markdown",
   "id": "0ea694da",
   "metadata": {},
   "source": [
    "### Since no explicit BCs are given, diagnolisation of the consistent mass matrix is done directly"
   ]
  },
  {
   "cell_type": "code",
   "execution_count": 15,
   "id": "39b322f4",
   "metadata": {},
   "outputs": [
    {
     "data": {
      "text/latex": [
       "$\\displaystyle \\left[\\begin{matrix}\\frac{A L \\rho}{6} & 0 & 0\\\\0 & \\frac{2 A L \\rho}{3} & 0\\\\0 & 0 & \\frac{A L \\rho}{6}\\end{matrix}\\right]$"
      ],
      "text/plain": [
       "Matrix([\n",
       "[A*L*rho/6,           0,         0],\n",
       "[        0, 2*A*L*rho/3,         0],\n",
       "[        0,           0, A*L*rho/6]])"
      ]
     },
     "execution_count": 15,
     "metadata": {},
     "output_type": "execute_result"
    }
   ],
   "source": [
    "# Lumped Mass Matrix\n",
    "MLumped = Matrix([[M[0,0] + M[0,1] + M[0,2],0,0],[0,M[1,0] + M[1,1] + M[1,2],0],[0,0,M[2,0] + M[2,1] + M[2,2]]])\n",
    "MLumped"
   ]
  },
  {
   "cell_type": "markdown",
   "id": "1ece6e7b",
   "metadata": {},
   "source": [
    "## Question 2\n",
    "![sys](Images/1.jpg)\n",
    "\n",
    "**To Find**: The eigenfrequency of the system\n",
    "\n",
    "**Given Stiffness and Lumped Mass Matrix for a beam element of length $l$**"
   ]
  },
  {
   "cell_type": "code",
   "execution_count": 21,
   "id": "79d0cdfc",
   "metadata": {},
   "outputs": [],
   "source": [
    "def stiffness(k):\n",
    "    E,I,l = symbols('E I l')\n",
    "    # Length of Element: k*l\n",
    "    l = k*l\n",
    "    return (E*I/(l))*Matrix([[12/l**2,6/l,-12/l**2,6/l],[6/l,4,-6/l,2],[-12/l**2,-6/l,12/l**2,-6/l],[6/l,2,-6/l,4]])\n",
    "\n",
    "def lumpedMass(k):\n",
    "    rho,A,l = symbols('rho A l')\n",
    "    return (rho*A*k*l/2)*Matrix([[1,0,0,0],[0,0,0,0],[0,0,1,0],[0,0,0,0]])"
   ]
  },
  {
   "cell_type": "code",
   "execution_count": 23,
   "id": "7335d578",
   "metadata": {},
   "outputs": [
    {
     "data": {
      "text/latex": [
       "$\\displaystyle \\left[\\begin{matrix}\\frac{3 E I}{2 l^{3}} & \\frac{3 E I}{2 l^{2}} & - \\frac{3 E I}{2 l^{3}} & \\frac{3 E I}{2 l^{2}}\\\\\\frac{3 E I}{2 l^{2}} & \\frac{2 E I}{l} & - \\frac{3 E I}{2 l^{2}} & \\frac{E I}{l}\\\\- \\frac{3 E I}{2 l^{3}} & - \\frac{3 E I}{2 l^{2}} & \\frac{3 E I}{2 l^{3}} & - \\frac{3 E I}{2 l^{2}}\\\\\\frac{3 E I}{2 l^{2}} & \\frac{E I}{l} & - \\frac{3 E I}{2 l^{2}} & \\frac{2 E I}{l}\\end{matrix}\\right]$"
      ],
      "text/plain": [
       "Matrix([\n",
       "[ 3*E*I/(2*l**3),  3*E*I/(2*l**2), -3*E*I/(2*l**3),  3*E*I/(2*l**2)],\n",
       "[ 3*E*I/(2*l**2),         2*E*I/l, -3*E*I/(2*l**2),           E*I/l],\n",
       "[-3*E*I/(2*l**3), -3*E*I/(2*l**2),  3*E*I/(2*l**3), -3*E*I/(2*l**2)],\n",
       "[ 3*E*I/(2*l**2),           E*I/l, -3*E*I/(2*l**2),         2*E*I/l]])"
      ]
     },
     "execution_count": 23,
     "metadata": {},
     "output_type": "execute_result"
    }
   ],
   "source": [
    "# Element 1\n",
    "K1 = stiffness(2)\n",
    "M1 = lumpedMass(2)\n",
    "K1"
   ]
  },
  {
   "cell_type": "code",
   "execution_count": 26,
   "id": "086693a6",
   "metadata": {},
   "outputs": [
    {
     "data": {
      "text/latex": [
       "$\\displaystyle \\left[\\begin{matrix}\\frac{12 E I}{l^{3}} & \\frac{6 E I}{l^{2}} & - \\frac{12 E I}{l^{3}} & \\frac{6 E I}{l^{2}}\\\\\\frac{6 E I}{l^{2}} & \\frac{4 E I}{l} & - \\frac{6 E I}{l^{2}} & \\frac{2 E I}{l}\\\\- \\frac{12 E I}{l^{3}} & - \\frac{6 E I}{l^{2}} & \\frac{12 E I}{l^{3}} & - \\frac{6 E I}{l^{2}}\\\\\\frac{6 E I}{l^{2}} & \\frac{2 E I}{l} & - \\frac{6 E I}{l^{2}} & \\frac{4 E I}{l}\\end{matrix}\\right]$"
      ],
      "text/plain": [
       "Matrix([\n",
       "[ 12*E*I/l**3,  6*E*I/l**2, -12*E*I/l**3,  6*E*I/l**2],\n",
       "[  6*E*I/l**2,     4*E*I/l,  -6*E*I/l**2,     2*E*I/l],\n",
       "[-12*E*I/l**3, -6*E*I/l**2,  12*E*I/l**3, -6*E*I/l**2],\n",
       "[  6*E*I/l**2,     2*E*I/l,  -6*E*I/l**2,     4*E*I/l]])"
      ]
     },
     "execution_count": 26,
     "metadata": {},
     "output_type": "execute_result"
    }
   ],
   "source": [
    "# Element 2\n",
    "K2 = stiffness(1)\n",
    "M2 = lumpedMass(1)\n",
    "K2"
   ]
  },
  {
   "cell_type": "code",
   "execution_count": 30,
   "id": "dda5851b",
   "metadata": {},
   "outputs": [
    {
     "data": {
      "text/latex": [
       "$\\displaystyle \\left[\\begin{matrix}\\frac{3 E I}{2 l^{3}} & \\frac{3 E I}{2 l^{2}} & - \\frac{3 E I}{2 l^{3}} & \\frac{3 E I}{2 l^{2}} & 0 & 0\\\\\\frac{3 E I}{2 l^{2}} & \\frac{2 E I}{l} & - \\frac{3 E I}{2 l^{2}} & \\frac{E I}{l} & 0 & 0\\\\- \\frac{3 E I}{2 l^{3}} & - \\frac{3 E I}{2 l^{2}} & \\frac{27 E I}{2 l^{3}} & \\frac{9 E I}{2 l^{2}} & - \\frac{12 E I}{l^{3}} & \\frac{6 E I}{l^{2}}\\\\\\frac{3 E I}{2 l^{2}} & \\frac{E I}{l} & \\frac{9 E I}{2 l^{2}} & \\frac{6 E I}{l} & - \\frac{6 E I}{l^{2}} & \\frac{2 E I}{l}\\\\0 & 0 & - \\frac{12 E I}{l^{3}} & - \\frac{6 E I}{l^{2}} & \\frac{12 E I}{l^{3}} & - \\frac{6 E I}{l^{2}}\\\\0 & 0 & \\frac{6 E I}{l^{2}} & \\frac{2 E I}{l} & - \\frac{6 E I}{l^{2}} & \\frac{4 E I}{l}\\end{matrix}\\right]$"
      ],
      "text/plain": [
       "Matrix([\n",
       "[ 3*E*I/(2*l**3),  3*E*I/(2*l**2), -3*E*I/(2*l**3), 3*E*I/(2*l**2),            0,           0],\n",
       "[ 3*E*I/(2*l**2),         2*E*I/l, -3*E*I/(2*l**2),          E*I/l,            0,           0],\n",
       "[-3*E*I/(2*l**3), -3*E*I/(2*l**2), 27*E*I/(2*l**3), 9*E*I/(2*l**2), -12*E*I/l**3,  6*E*I/l**2],\n",
       "[ 3*E*I/(2*l**2),           E*I/l,  9*E*I/(2*l**2),        6*E*I/l,  -6*E*I/l**2,     2*E*I/l],\n",
       "[              0,               0,    -12*E*I/l**3,    -6*E*I/l**2,  12*E*I/l**3, -6*E*I/l**2],\n",
       "[              0,               0,      6*E*I/l**2,        2*E*I/l,  -6*E*I/l**2,     4*E*I/l]])"
      ]
     },
     "execution_count": 30,
     "metadata": {},
     "output_type": "execute_result"
    }
   ],
   "source": [
    "# Assembled Stiffness Matrix\n",
    "K = Matrix([[K1[0:2,:],zeros(2,2)],[K1[2:,0:2],K1[2:,2:] + K2[0:2,0:2],K2[0:2,2:]],[zeros(2,2),K2[2:,:]]])\n",
    "K"
   ]
  },
  {
   "cell_type": "code",
   "execution_count": 32,
   "id": "374b7394",
   "metadata": {},
   "outputs": [
    {
     "data": {
      "text/latex": [
       "$\\displaystyle \\left[\\begin{matrix}A l \\rho & 0 & 0 & 0 & 0 & 0\\\\0 & 0 & 0 & 0 & 0 & 0\\\\0 & 0 & \\frac{3 A l \\rho}{2} + M & 0 & 0 & 0\\\\0 & 0 & 0 & 0 & 0 & 0\\\\0 & 0 & 0 & 0 & \\frac{A l \\rho}{2} & 0\\\\0 & 0 & 0 & 0 & 0 & 0\\end{matrix}\\right]$"
      ],
      "text/plain": [
       "Matrix([\n",
       "[A*l*rho, 0,               0, 0,         0, 0],\n",
       "[      0, 0,               0, 0,         0, 0],\n",
       "[      0, 0, 3*A*l*rho/2 + M, 0,         0, 0],\n",
       "[      0, 0,               0, 0,         0, 0],\n",
       "[      0, 0,               0, 0, A*l*rho/2, 0],\n",
       "[      0, 0,               0, 0,         0, 0]])"
      ]
     },
     "execution_count": 32,
     "metadata": {},
     "output_type": "execute_result"
    }
   ],
   "source": [
    "# Assembled Mass Matrix\n",
    "m = symbols('M')\n",
    "M = Matrix([[M1[0:2,:],zeros(2,2)],[M1[2:,0:2],M1[2:,2:] + M2[0:2,0:2] + m*Matrix([[1,0],[0,0]]),M2[0:2,2:]],[zeros(2,2),M2[2:,:]]])\n",
    "M"
   ]
  },
  {
   "cell_type": "code",
   "execution_count": 34,
   "id": "3355fb46",
   "metadata": {},
   "outputs": [
    {
     "data": {
      "text/latex": [
       "$\\displaystyle \\left[\\begin{matrix}\\frac{3 A l \\rho}{2} + M & 0\\\\0 & 0\\end{matrix}\\right]$"
      ],
      "text/plain": [
       "Matrix([\n",
       "[3*A*l*rho/2 + M, 0],\n",
       "[              0, 0]])"
      ]
     },
     "execution_count": 34,
     "metadata": {},
     "output_type": "execute_result"
    }
   ],
   "source": [
    "# Reduced System (Node 1 and Node 3 are fixed)\n",
    "Kred = K[2:4,2:4]\n",
    "Mred = M[2:4,2:4]\n",
    "Mred"
   ]
  },
  {
   "cell_type": "code",
   "execution_count": 37,
   "id": "8bef6a65",
   "metadata": {},
   "outputs": [
    {
     "data": {
      "text/latex": [
       "$\\displaystyle \\frac{- 36 A E I l^{4} \\lambda \\rho + 243 E^{2} I^{2} - 24 E I M l^{3} \\lambda}{4 l^{4}}$"
      ],
      "text/plain": [
       "(-36*A*E*I*l**4*lambda*rho + 243*E**2*I**2 - 24*E*I*M*l**3*lambda)/(4*l**4)"
      ]
     },
     "execution_count": 37,
     "metadata": {},
     "output_type": "execute_result"
    }
   ],
   "source": [
    "# Eigenvalue Problem\n",
    "lbda = symbols('lambda') # Eigenvalues of the system\n",
    "evp = Kred - lbda*Mred\n",
    "evp.det()"
   ]
  },
  {
   "cell_type": "code",
   "execution_count": null,
   "id": "54f434f0",
   "metadata": {},
   "outputs": [],
   "source": []
  }
 ],
 "metadata": {
  "kernelspec": {
   "display_name": "Python 3 (ipykernel)",
   "language": "python",
   "name": "python3"
  },
  "language_info": {
   "codemirror_mode": {
    "name": "ipython",
    "version": 3
   },
   "file_extension": ".py",
   "mimetype": "text/x-python",
   "name": "python",
   "nbconvert_exporter": "python",
   "pygments_lexer": "ipython3",
   "version": "3.8.12"
  }
 },
 "nbformat": 4,
 "nbformat_minor": 5
}
