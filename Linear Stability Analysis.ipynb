{
 "cells": [
  {
   "cell_type": "code",
   "execution_count": 17,
   "id": "73bdc6d3",
   "metadata": {},
   "outputs": [],
   "source": [
    "import sympy as syms\n",
    "import numpy as np\n",
    "import math\n",
    "\n",
    "from sympy import symbols\n",
    "from sympy import Matrix\n",
    "from sympy import latex\n",
    "from sympy import solve"
   ]
  },
  {
   "cell_type": "code",
   "execution_count": 18,
   "id": "8934913b",
   "metadata": {},
   "outputs": [],
   "source": [
    "# Element Properties\n",
    "E, A, I, L, P, lbda = symbols('E A I L P \\lambda')\n",
    "E = 70000\n",
    "A = 100\n",
    "L = 1000\n",
    "I = 833.3\n",
    "P = -1"
   ]
  },
  {
   "cell_type": "code",
   "execution_count": 19,
   "id": "bd55ee2c",
   "metadata": {},
   "outputs": [
    {
     "data": {
      "text/latex": [
       "$\\displaystyle \\left[\\begin{matrix}233324.0 & 0 & 116662.0\\\\0 & 7000.0 & 0\\\\116662.0 & 0 & 233324.0\\end{matrix}\\right]$"
      ],
      "text/plain": [
       "Matrix([\n",
       "[233324.0,      0, 116662.0],\n",
       "[       0, 7000.0,        0],\n",
       "[116662.0,      0, 233324.0]])"
      ]
     },
     "execution_count": 19,
     "metadata": {},
     "output_type": "execute_result"
    }
   ],
   "source": [
    "# Case 1: Simply Supported 2 Node Frame Element\n",
    "# Reduced Linear Stiffness Matrix\n",
    "K_lin = ((E*I)/(L))*Matrix([[4,0,2],[0, A/I,0],[2,0,4]])\n",
    "K_lin"
   ]
  },
  {
   "cell_type": "code",
   "execution_count": 20,
   "id": "72150440",
   "metadata": {},
   "outputs": [
    {
     "data": {
      "text/latex": [
       "$\\displaystyle \\left[\\begin{matrix}-133.333333333333 & 0 & 33.3333333333333\\\\0 & 0 & 0\\\\33.3333333333333 & 0 & -133.333333333333\\end{matrix}\\right]$"
      ],
      "text/plain": [
       "Matrix([\n",
       "[-133.333333333333, 0,  33.3333333333333],\n",
       "[                0, 0,                 0],\n",
       "[ 33.3333333333333, 0, -133.333333333333]])"
      ]
     },
     "execution_count": 20,
     "metadata": {},
     "output_type": "execute_result"
    }
   ],
   "source": [
    "# Reduced Geometric Stiffness Matrix\n",
    "K_geo = (P/10)*Matrix([[4*L/3,0,-L/3],[0,0,0],[-L/3,0,4*L/3]])\n",
    "K_geo"
   ]
  },
  {
   "cell_type": "code",
   "execution_count": 21,
   "id": "52a61259",
   "metadata": {},
   "outputs": [
    {
     "data": {
      "text/latex": [
       "$\\displaystyle \\left[\\begin{matrix}233324.0 - 133.333333333333 \\lambda & 0 & 33.3333333333333 \\lambda + 116662.0\\\\0 & 7000.0 & 0\\\\33.3333333333333 \\lambda + 116662.0 & 0 & 233324.0 - 133.333333333333 \\lambda\\end{matrix}\\right]$"
      ],
      "text/plain": [
       "Matrix([\n",
       "[233324.0 - 133.333333333333*\\lambda,      0, 33.3333333333333*\\lambda + 116662.0],\n",
       "[                                  0, 7000.0,                                   0],\n",
       "[33.3333333333333*\\lambda + 116662.0,      0, 233324.0 - 133.333333333333*\\lambda]])"
      ]
     },
     "execution_count": 21,
     "metadata": {},
     "output_type": "execute_result"
    }
   ],
   "source": [
    "# Reduced total stiffness matrix at bifurcation point\n",
    "K_tau = K_lin + lbda*K_geo\n",
    "K_tau"
   ]
  },
  {
   "cell_type": "code",
   "execution_count": 22,
   "id": "6afb8128",
   "metadata": {},
   "outputs": [
    {
     "data": {
      "text/latex": [
       "$\\displaystyle 116666666.666667 \\lambda^{2} - 489980400000.0 \\lambda + 285810467124000.0$"
      ],
      "text/plain": [
       "116666666.666667*\\lambda**2 - 489980400000.0*\\lambda + 285810467124000.0"
      ]
     },
     "execution_count": 22,
     "metadata": {},
     "output_type": "execute_result"
    }
   ],
   "source": [
    "# At the bifurcation point, the the stiffness matrix will be singular\n",
    "detEqn =K_tau.det()\n",
    "detEqn"
   ]
  },
  {
   "cell_type": "code",
   "execution_count": 23,
   "id": "caf92881",
   "metadata": {},
   "outputs": [
    {
     "data": {
      "text/latex": [
       "$\\displaystyle 116666666.666667 \\lambda^{2} - 489980400000.0 \\lambda + 285810467124000.0$"
      ],
      "text/plain": [
       "116666666.666667*\\lambda**2 - 489980400000.0*\\lambda + 285810467124000.0"
      ]
     },
     "execution_count": 23,
     "metadata": {},
     "output_type": "execute_result"
    }
   ],
   "source": [
    "detEqn = detEqn.subs([(E,70000), (A,100), (L,1000), (I,833.3), (P,-1)]) \n",
    "detEqn"
   ]
  },
  {
   "cell_type": "code",
   "execution_count": 24,
   "id": "db5b8ad1",
   "metadata": {},
   "outputs": [
    {
     "data": {
      "text/plain": [
       "[699.972000000001, 3499.85999999999]"
      ]
     },
     "execution_count": 24,
     "metadata": {},
     "output_type": "execute_result"
    }
   ],
   "source": [
    "lbdas = solve(detEqn,lbda)\n",
    "lbdas"
   ]
  },
  {
   "cell_type": "code",
   "execution_count": 25,
   "id": "c58afd04",
   "metadata": {},
   "outputs": [
    {
     "data": {
      "text/latex": [
       "$\\displaystyle -699.972000000001$"
      ],
      "text/plain": [
       "-699.972000000001"
      ]
     },
     "execution_count": 25,
     "metadata": {},
     "output_type": "execute_result"
    }
   ],
   "source": [
    "# Critical Load\n",
    "P_crit = min(lbdas)*P\n",
    "P_crit"
   ]
  },
  {
   "cell_type": "code",
   "execution_count": 12,
   "id": "cbef49c3",
   "metadata": {},
   "outputs": [],
   "source": [
    "# Case 2: Cantilever 2 Node Frame Element (Applied Load not given)\n",
    "# Element Properties\n",
    "E, A, I, L, P, lbda = symbols('E A I L P \\lambda')\n"
   ]
  },
  {
   "cell_type": "code",
   "execution_count": 13,
   "id": "cca0b73f",
   "metadata": {},
   "outputs": [
    {
     "data": {
      "text/latex": [
       "$\\displaystyle \\left[\\begin{matrix}\\frac{A E}{L} & 0 & 0\\\\0 & 12 E I L & - 6 E I\\\\0 & - 6 E I & \\frac{4 E I}{L}\\end{matrix}\\right]$"
      ],
      "text/plain": [
       "Matrix([\n",
       "[A*E/L,        0,       0],\n",
       "[    0, 12*E*I*L,  -6*E*I],\n",
       "[    0,   -6*E*I, 4*E*I/L]])"
      ]
     },
     "execution_count": 13,
     "metadata": {},
     "output_type": "execute_result"
    }
   ],
   "source": [
    "F = syms.symbols('F') # Unknown Applied Critical Load (includes lambda too)\n",
    "# Reduced Linear Stiffness Matrix\n",
    "K_lin = ((E*I)/(L))*Matrix([[A/I,0,0],[0,12*(L**2),-6*L],[0,-6*L,4]])\n",
    "K_lin"
   ]
  },
  {
   "cell_type": "code",
   "execution_count": 14,
   "id": "11e96d43",
   "metadata": {},
   "outputs": [
    {
     "data": {
      "text/latex": [
       "$\\displaystyle \\left[\\begin{matrix}0 & 0 & 0\\\\0 & \\frac{6 F}{5 L} & - \\frac{F}{10}\\\\0 & - \\frac{F}{10} & \\frac{2 F L}{15}\\end{matrix}\\right]$"
      ],
      "text/plain": [
       "Matrix([\n",
       "[0,         0,        0],\n",
       "[0, 6*F/(5*L),    -F/10],\n",
       "[0,     -F/10, 2*F*L/15]])"
      ]
     },
     "execution_count": 14,
     "metadata": {},
     "output_type": "execute_result"
    }
   ],
   "source": [
    "# Reduced Geometric stiffness matrix \n",
    "K_geo = (F/10)*Matrix([[0,0,0],[0,12/L,-1],[0,-1,4*L/3]])\n",
    "K_geo"
   ]
  },
  {
   "cell_type": "code",
   "execution_count": 15,
   "id": "c56ade79",
   "metadata": {},
   "outputs": [
    {
     "data": {
      "text/latex": [
       "$\\displaystyle \\left[\\begin{matrix}\\frac{A E}{L} & 0 & 0\\\\0 & 12 E I L + \\frac{6 F}{5 L} & - 6 E I - \\frac{F}{10}\\\\0 & - 6 E I - \\frac{F}{10} & \\frac{4 E I}{L} + \\frac{2 F L}{15}\\end{matrix}\\right]$"
      ],
      "text/plain": [
       "Matrix([\n",
       "[A*E/L,                    0,                  0],\n",
       "[    0, 12*E*I*L + 6*F/(5*L),      -6*E*I - F/10],\n",
       "[    0,        -6*E*I - F/10, 4*E*I/L + 2*F*L/15]])"
      ]
     },
     "execution_count": 15,
     "metadata": {},
     "output_type": "execute_result"
    }
   ],
   "source": [
    "# Total Stiffness Matrix at bifurcation point\n",
    "K_tau = K_lin + K_geo # lambda is multiplied with F and assumed to be the possible critical load\n",
    "K_tau"
   ]
  },
  {
   "cell_type": "code",
   "execution_count": 16,
   "id": "ecd3dd1b",
   "metadata": {},
   "outputs": [
    {
     "data": {
      "text/latex": [
       "$\\displaystyle \\frac{240 A E^{3} I^{2} L^{2} + 32 A E^{2} F I L^{4} - 24 A E^{2} F I L^{2} + 96 A E^{2} F I + 3 A E F^{2} L^{2}}{20 L^{3}}$"
      ],
      "text/plain": [
       "(240*A*E**3*I**2*L**2 + 32*A*E**2*F*I*L**4 - 24*A*E**2*F*I*L**2 + 96*A*E**2*F*I + 3*A*E*F**2*L**2)/(20*L**3)"
      ]
     },
     "execution_count": 16,
     "metadata": {},
     "output_type": "execute_result"
    }
   ],
   "source": [
    "# Stiffness will be singular at bifurcation point\n",
    "detEqn = K_tau.det()\n",
    "detEqn"
   ]
  },
  {
   "cell_type": "code",
   "execution_count": 7,
   "id": "812ddb0a",
   "metadata": {},
   "outputs": [
    {
     "data": {
      "text/plain": [
       "[-2.48888080009333e+15, -28000.0769992020]"
      ]
     },
     "execution_count": 7,
     "metadata": {},
     "output_type": "execute_result"
    }
   ],
   "source": [
    "force = syms.solve(detEqn,F)\n",
    "force"
   ]
  },
  {
   "cell_type": "code",
   "execution_count": 8,
   "id": "3101e742",
   "metadata": {},
   "outputs": [
    {
     "data": {
      "text/latex": [
       "$\\displaystyle -28000.076999202$"
      ],
      "text/plain": [
       "-28000.0769992020"
      ]
     },
     "execution_count": 8,
     "metadata": {},
     "output_type": "execute_result"
    }
   ],
   "source": [
    "# Critical Load\n",
    "def criticalLoad(arr):\n",
    "    for i in range(0,len(arr)):\n",
    "        if abs(arr[i]) < abs(arr[0]):\n",
    "            return arr[i]\n",
    "    return arr[0]\n",
    "\n",
    "f_crit = criticalLoad(force)\n",
    "f_crit"
   ]
  },
  {
   "cell_type": "code",
   "execution_count": 9,
   "id": "7ac9b633",
   "metadata": {},
   "outputs": [
    {
     "data": {
      "text/latex": [
       "$\\displaystyle \\left[\\begin{matrix}56000.0 u\\\\\\phi \\left(- \\frac{F}{10} - 5599998600.0\\right) + w \\left(0.0024 F + 5599998600000.0\\right)\\\\\\phi \\left(66.6666666666667 F + 7466664.8\\right) + w \\left(- \\frac{F}{10} - 5599998600.0\\right)\\end{matrix}\\right]$"
      ],
      "text/plain": [
       "Matrix([\n",
       "[                                                       56000.0*u],\n",
       "[    \\phi*(-F/10 - 5599998600.0) + w*(0.0024*F + 5599998600000.0)],\n",
       "[\\phi*(66.6666666666667*F + 7466664.8) + w*(-F/10 - 5599998600.0)]])"
      ]
     },
     "execution_count": 9,
     "metadata": {},
     "output_type": "execute_result"
    }
   ],
   "source": [
    "# Dispalcement required to make the elements buckle\n",
    "# Node 2 (Free End) DOFs\n",
    "u,w,phi = syms.symbols('u w \\phi')\n",
    "# Nodal Force Matrix\n",
    "f_mat = syms.Matrix([[f_crit],[0],[0]])\n",
    "# Reduced system nodal displacement vector\n",
    "u_mat = syms.Matrix([[u],[w],[phi]])\n",
    "f_mat = K_tau*u_mat\n",
    "f_mat"
   ]
  },
  {
   "cell_type": "code",
   "execution_count": 10,
   "id": "95035798",
   "metadata": {},
   "outputs": [
    {
     "data": {
      "text/plain": [
       "[-0.500001374985750]"
      ]
     },
     "execution_count": 10,
     "metadata": {},
     "output_type": "execute_result"
    }
   ],
   "source": [
    "# Solving for displacement\n",
    "syms.solve(f_mat[0] - f_crit,u)"
   ]
  },
  {
   "cell_type": "code",
   "execution_count": 11,
   "id": "7aab5f67",
   "metadata": {},
   "outputs": [
    {
     "data": {
      "text/plain": [
       "9211.628471442373"
      ]
     },
     "execution_count": 11,
     "metadata": {},
     "output_type": "execute_result"
    }
   ],
   "source": [
    "# Displacement from Euler's equation\n",
    "f_euler = (math.pi**2)*E*I/(4*(L**2)) # Effective length for the given boundary conditions is 2L\n",
    "f_euler"
   ]
  },
  {
   "cell_type": "code",
   "execution_count": null,
   "id": "124d3cfc",
   "metadata": {},
   "outputs": [],
   "source": []
  }
 ],
 "metadata": {
  "kernelspec": {
   "display_name": "Python 3 (ipykernel)",
   "language": "python",
   "name": "python3"
  },
  "language_info": {
   "codemirror_mode": {
    "name": "ipython",
    "version": 3
   },
   "file_extension": ".py",
   "mimetype": "text/x-python",
   "name": "python",
   "nbconvert_exporter": "python",
   "pygments_lexer": "ipython3",
   "version": "3.8.12"
  }
 },
 "nbformat": 4,
 "nbformat_minor": 5
}
