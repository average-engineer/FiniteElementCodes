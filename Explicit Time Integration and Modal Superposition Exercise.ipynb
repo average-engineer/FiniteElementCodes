{
 "cells": [
  {
   "cell_type": "code",
   "execution_count": 1,
   "id": "a497d5ee",
   "metadata": {},
   "outputs": [],
   "source": [
    "import sympy as syms\n",
    "import numpy as np\n",
    "import math\n",
    "import matplotlib.pyplot as plt\n",
    "\n",
    "from sympy import symbols\n",
    "from sympy import Matrix\n",
    "from sympy import latex\n",
    "from sympy import solve\n",
    "from sympy.matrices import eye, zeros, ones, Identity # Special matrices (eye creates explicit matrix, Identity creates matrix expression)\n",
    "from sympy import *\n"
   ]
  },
  {
   "cell_type": "markdown",
   "id": "754fc27c",
   "metadata": {},
   "source": [
    "## Problem\n",
    "\n",
    "![sys](Images/6.jpg)\n",
    "\n",
    "To compute:\n",
    "* Eigenfrequency of the structure\n",
    "* Critical Time Step\n",
    "* Accelerations, velocities and displacements of node 2 until $t = 0.0004 s$ with a time step of $\\Delta t = 0.0001 s$ using Central Difference Method"
   ]
  },
  {
   "cell_type": "code",
   "execution_count": 38,
   "id": "30f629de",
   "metadata": {},
   "outputs": [
    {
     "data": {
      "text/latex": [
       "$\\displaystyle \\left[\\begin{matrix}k\\end{matrix}\\right]$"
      ],
      "text/plain": [
       "Matrix([[k]])"
      ]
     },
     "execution_count": 38,
     "metadata": {},
     "output_type": "execute_result"
    }
   ],
   "source": [
    "k,m,F,omg = symbols('k m F omega')\n",
    "# Stiffness Matrix\n",
    "K = Matrix([[k,-k],[-k,k]])\n",
    "# Lumped Mass Matrix\n",
    "M = Matrix([[m/2,0],[0,m/2]])\n",
    "# Damping Matrix\n",
    "C = zeros(2)\n",
    "# Force Vector\n",
    "Fvec = Matrix([[0],[-F]])\n",
    "\n",
    "# Reduced System\n",
    "# Node 1 is fixed\n",
    "Kred = K[1:,1:]\n",
    "Mred = M[1:,1:]\n",
    "Cred = C[1:,1:]\n",
    "Kred"
   ]
  },
  {
   "cell_type": "code",
   "execution_count": 7,
   "id": "c0a07253",
   "metadata": {},
   "outputs": [
    {
     "data": {
      "text/latex": [
       "$\\displaystyle k - \\frac{m \\omega^{2}}{2} = 0$"
      ],
      "text/plain": [
       "Eq(k - m*omega**2/2, 0)"
      ]
     },
     "execution_count": 7,
     "metadata": {},
     "output_type": "execute_result"
    }
   ],
   "source": [
    "# Eigenvalue Problem of the system\n",
    "evp = Kred - (omg**2)*Mred\n",
    "eqn = Eq(evp.det(),0)\n",
    "eqn"
   ]
  },
  {
   "cell_type": "code",
   "execution_count": 9,
   "id": "c9e6bd90",
   "metadata": {},
   "outputs": [
    {
     "data": {
      "text/plain": [
       "[-sqrt(2)*sqrt(k/m), sqrt(2)*sqrt(k/m)]"
      ]
     },
     "execution_count": 9,
     "metadata": {},
     "output_type": "execute_result"
    }
   ],
   "source": [
    "# Eigenvalues\n",
    "solve(eqn,omg)"
   ]
  },
  {
   "cell_type": "code",
   "execution_count": 11,
   "id": "3ed33691",
   "metadata": {},
   "outputs": [
    {
     "data": {
      "text/latex": [
       "$\\displaystyle \\frac{\\sqrt{2} \\sqrt{\\frac{k}{m}}}{2 \\pi}$"
      ],
      "text/plain": [
       "sqrt(2)*sqrt(k/m)/(2*pi)"
      ]
     },
     "execution_count": 11,
     "metadata": {},
     "output_type": "execute_result"
    }
   ],
   "source": [
    "# Critical Time Step\n",
    "# tcrit = T/pi where T is the period which corresponds to the highest Eigenfrequency\n",
    "f = solve(eqn,omg)[-1]/(2*pi)\n",
    "f"
   ]
  },
  {
   "cell_type": "code",
   "execution_count": 14,
   "id": "564ce5d0",
   "metadata": {},
   "outputs": [
    {
     "data": {
      "text/latex": [
       "$\\displaystyle 0.000180361083612646 \\sqrt{2}$"
      ],
      "text/plain": [
       "0.000180361083612646*sqrt(2)"
      ]
     },
     "execution_count": 14,
     "metadata": {},
     "output_type": "execute_result"
    }
   ],
   "source": [
    "T = 1/f\n",
    "tcrit = T/pi\n",
    "tcrit.subs(k,8300e3).subs(m,0.270)"
   ]
  },
  {
   "cell_type": "code",
   "execution_count": 13,
   "id": "b82378c7",
   "metadata": {},
   "outputs": [
    {
     "data": {
      "text/plain": [
       "8300000.0"
      ]
     },
     "execution_count": 13,
     "metadata": {},
     "output_type": "execute_result"
    }
   ],
   "source": [
    "8300e3"
   ]
  },
  {
   "cell_type": "code",
   "execution_count": 39,
   "id": "95c910c4",
   "metadata": {},
   "outputs": [],
   "source": [
    "# Function for the central difference method\n",
    "def CDM(M,C,K,F,delt,u0,u0_d,u0_dd,iters):\n",
    "    # Description\n",
    "    # iters: #Iterations\n",
    "    # F: load vector at various time steps as a list\n",
    "    # Integration Constants\n",
    "    a0 = 1/(delt**2)\n",
    "    a1 = 1/(2*delt)\n",
    "    a2 = 2*a0\n",
    "    a3 = 1/a2\n",
    "\n",
    "    # Effective Mass Matrix\n",
    "    Meff = a0*M + a1*C\n",
    "\n",
    "    # Displacement at -delt (Special Starting Procedure)\n",
    "    uss = ((delt**2)/2)*u0_dd - delt*u0_d + u0\n",
    "    \n",
    "    # Initialising the displacment vector at various time steps as a list\n",
    "    u = []\n",
    "    \n",
    "    # At initial time\n",
    "    u.append(uss) # at -delt\n",
    "    u.append(u0) # at initial time\n",
    "    \n",
    "    for ii in range(1,iters+1):\n",
    "        # ii coressponds to t\n",
    "        # ii - 1 corresponds to t - delt\n",
    "        # For force, ii - 1 corresponds to t\n",
    "        # Effective Load Vector (at time = t)\n",
    "        Feff = F[ii-1] - (K - a2*M)*u[ii] - (a0*M - a1*C)*u[ii-1]\n",
    "        \n",
    "        # Displacement vector (at time = t + delt)\n",
    "        ut = (Meff**-1)*Feff\n",
    "        \n",
    "        # Appending the computed displacement vector to the list\n",
    "        u.append(ut)\n",
    "        \n",
    "    return u"
   ]
  },
  {
   "cell_type": "code",
   "execution_count": 40,
   "id": "8f3939d1",
   "metadata": {},
   "outputs": [
    {
     "data": {
      "text/latex": [
       "$\\displaystyle \\left[\\begin{matrix}0\\\\- \\frac{2 F}{m}\\end{matrix}\\right]$"
      ],
      "text/plain": [
       "Matrix([\n",
       "[     0],\n",
       "[-2*F/m]])"
      ]
     },
     "execution_count": 40,
     "metadata": {},
     "output_type": "execute_result"
    }
   ],
   "source": [
    "# Initial Conditions\n",
    "# Before t = 0, the bar doesn't move\n",
    "u0 = zeros(2,1)\n",
    "u0_d = zeros(2,1)\n",
    "u0_d[-1] = -0.7407 # Value Premeditated (Exactly how to calculate this when ICs not given)\n",
    "# Accelerations at t=0\n",
    "u0_dd = (M**-1)*Fvec\n",
    "u0_dd"
   ]
  },
  {
   "cell_type": "code",
   "execution_count": 60,
   "id": "0180c70f",
   "metadata": {},
   "outputs": [
    {
     "data": {
      "text/plain": [
       "[-4.07407407407247e-9,\n",
       " 0,\n",
       " -0.000148144074074074,\n",
       " -0.000353355124828532,\n",
       " -0.000489466358095819,\n",
       " -0.000472794571200491,\n",
       " -0.000313589825715231]"
      ]
     },
     "execution_count": 60,
     "metadata": {},
     "output_type": "execute_result"
    }
   ],
   "source": [
    "# Number of required iterations\n",
    "iters = 5\n",
    "# Load Vector at each time step\n",
    "Ft = []\n",
    "for ii in range(0,iters):\n",
    "    Ft.append(Fvec[1:,:]) # Constant Load Vector for the given problem\n",
    "delt = 0.0001\n",
    "\n",
    "u_cdm = CDM(Mred,Cred,Kred,Ft,delt,u0[1:,:],u0_d[1:,:],u0_dd[1:,:],iters)\n",
    "\n",
    "\n",
    "for i in range(0,len(u_cdm)):\n",
    "    u_cdm[i] = u_cdm[i][-1].subs(F,2000).subs(k,8300e3).subs(m,0.270)\n",
    "\n",
    "u_cdm"
   ]
  },
  {
   "cell_type": "code",
   "execution_count": 61,
   "id": "dd183d69",
   "metadata": {},
   "outputs": [
    {
     "data": {
      "text/plain": [
       "[<matplotlib.lines.Line2D at 0x2b9fd3965b0>]"
      ]
     },
     "execution_count": 61,
     "metadata": {},
     "output_type": "execute_result"
    },
    {
     "data": {
      "image/png": "[encoded data removed]",
      "text/plain": [
       "<Figure size 360x360 with 1 Axes>"
      ]
     },
     "metadata": {
      "needs_background": "light"
     },
     "output_type": "display_data"
    }
   ],
   "source": [
    "fig = plt.figure(figsize = (5,5))\n",
    "plt.plot(u_cdm[1:])"
   ]
  },
  {
   "cell_type": "code",
   "execution_count": 62,
   "id": "c4d32a0d",
   "metadata": {},
   "outputs": [
    {
     "data": {
      "text/plain": [
       "[-0.740700000000000,\n",
       " -1.76677562414266,\n",
       " -1.70661142010872,\n",
       " -0.597197231859792,\n",
       " 0.879382661902937]"
      ]
     },
     "execution_count": 62,
     "metadata": {},
     "output_type": "execute_result"
    }
   ],
   "source": [
    "# Velocities\n",
    "v_cdm = []\n",
    "for i in range(1,len(u_cdm)-1):\n",
    "    vt = (u_cdm[i+1] - u_cdm[i-1])/(2*delt)\n",
    "    v_cdm.append(vt)\n",
    "v_cdm"
   ]
  },
  {
   "cell_type": "code",
   "execution_count": 63,
   "id": "4cca0d74",
   "metadata": {},
   "outputs": [
    {
     "data": {
      "text/plain": [
       "[-14814.8148148148,\n",
       " -5706.69766803841,\n",
       " 6909.98174871717,\n",
       " 15278.3020162614,\n",
       " 14253.2958589931]"
      ]
     },
     "execution_count": 63,
     "metadata": {},
     "output_type": "execute_result"
    }
   ],
   "source": [
    "# Accelerations\n",
    "a_cdm = []\n",
    "for i in range(1,len(u_cdm)-1):\n",
    "    at = (u_cdm[i+1] - 2*u_cdm[i] + u_cdm[i-1])/(delt**2)\n",
    "    a_cdm.append(at)\n",
    "a_cdm"
   ]
  },
  {
   "cell_type": "code",
   "execution_count": 58,
   "id": "3fbbdf4f",
   "metadata": {},
   "outputs": [
    {
     "data": {
      "text/latex": [
       "$\\displaystyle \\left[\\begin{matrix}- F\\end{matrix}\\right]$"
      ],
      "text/plain": [
       "Matrix([[-F]])"
      ]
     },
     "execution_count": 58,
     "metadata": {},
     "output_type": "execute_result"
    }
   ],
   "source": [
    "Fvec[1:,:]"
   ]
  },
  {
   "cell_type": "markdown",
   "id": "541c830a",
   "metadata": {},
   "source": [
    "## Problem\n",
    "![sys](Images/7.jpg)"
   ]
  },
  {
   "cell_type": "code",
   "execution_count": 147,
   "id": "10f7a5b9",
   "metadata": {},
   "outputs": [
    {
     "data": {
      "text/plain": [
       "[Matrix([\n",
       " [-48.9897948556636*sqrt(5)],\n",
       " [-97.9795897113271*sqrt(5)]]),\n",
       " Matrix([\n",
       " [-97.9795897113271*sqrt(5)],\n",
       " [-195.959179422654*sqrt(5)]]),\n",
       " Matrix([\n",
       " [-146.969384566991*sqrt(5)],\n",
       " [-293.938769133981*sqrt(5)]])]"
      ]
     },
     "execution_count": 147,
     "metadata": {},
     "output_type": "execute_result"
    }
   ],
   "source": [
    "m,k1,k2,p1,p2 = symbols('M k_{1} k_{2} phi_1 phi_2',real = True)\n",
    "# Mass Matrix\n",
    "M = Matrix([[m,0],[0,m]])\n",
    "# Damping Matrix\n",
    "C = zeros(2)\n",
    "# Stiffness Matrix\n",
    "K = Matrix([[k1+k2,-k2],[-k2,k2]])\n",
    "# Simulation Time vector (Time Step = 10 ms)\n",
    "# Final Time: 30 ms\n",
    "delt = 0.01\n",
    "t = []\n",
    "F = []\n",
    "t0 = 0\n",
    "tf = 0.03\n",
    "iters = int((tf-t0)/delt)\n",
    "for j in range(0,iters):\n",
    "    t.append(t0 + (j + 1)*delt)\n",
    "    F.append(Matrix([[0],[-3e4*(t0 + (j + 1)*delt)]])) # Assuming Y is upward facing\n",
    "# Load Vector\n",
    "F \n",
    "\n",
    "# Eigenvectors\n",
    "p1 = Matrix([[-2],[1]])\n",
    "p2 = Matrix([[1],[2]])\n",
    "\n",
    "# Modal Matrix\n",
    "modal = Matrix([[p1,p2]])\n",
    "modal\n",
    "\n",
    "# Generalised Mass Matrix\n",
    "Mgen = modal.T*M*modal\n",
    "Mgen\n",
    "\n",
    "# Norm for the eigenvectors\n",
    "p1n = p1/sqrt(Mgen[0,0])\n",
    "p2n = p2/sqrt(Mgen[-1,-1])\n",
    "\n",
    "# Transformation Matrix\n",
    "trans = Matrix([[p1n,p2n]])\n",
    "trans\n",
    "\n",
    "# transformed Mass Matrix (Should be identity)\n",
    "Mtrans = trans.T*M*trans\n",
    "\n",
    "# transformed Damping Matrix\n",
    "Ctrans = trans.T*C*trans\n",
    "\n",
    "# Transformed Stiffness Matrix\n",
    "Ktrans = trans.T*K*trans\n",
    "Ktrans.subs(k1,7200).subs(k2,4800).subs(m,1.5) # -> Non exponential spectral matrix\n",
    "\n",
    "# Transformed Load Vector\n",
    "Ftrans = []\n",
    "for i in range(0,len(F)):\n",
    "    Ftrans.append((trans.T*F[i]).subs(m,1.5))\n",
    "Ftrans"
   ]
  },
  {
   "cell_type": "code",
   "execution_count": 159,
   "id": "0883a875",
   "metadata": {},
   "outputs": [
    {
     "data": {
      "text/plain": [
       "[Matrix([\n",
       " [     0],\n",
       " [-300.0]]),\n",
       " Matrix([\n",
       " [     0],\n",
       " [-600.0]]),\n",
       " Matrix([\n",
       " [     0],\n",
       " [-900.0]])]"
      ]
     },
     "execution_count": 159,
     "metadata": {},
     "output_type": "execute_result"
    }
   ],
   "source": [
    "F"
   ]
  },
  {
   "cell_type": "code",
   "execution_count": 149,
   "id": "8aac4cd5",
   "metadata": {},
   "outputs": [],
   "source": [
    "# Using Central Difference Method to compute generalised Displacements\n",
    "x0 = zeros(2,1)\n",
    "x0_d = zeros(2,1)\n",
    "x0_dd = zeros(2,1) # Since load is zero at t = 0\n",
    "x_cdm = CDM(Mtrans,Ctrans,Ktrans,Ftrans,delt,x0,x0_d,x0_dd,iters)\n",
    "\n",
    "x1 = []\n",
    "x2 = []\n",
    "\n",
    "for ii in range(0,len(x_cdm)):\n",
    "    x1.append(float(x_cdm[ii][0].subs(k1,7200).subs(k2,4800).subs(m,1.5)))\n",
    "    x2.append(float(x_cdm[ii][-1].subs(k1,7200).subs(k2,4800).subs(m,1.5)))"
   ]
  },
  {
   "cell_type": "code",
   "execution_count": 150,
   "id": "bad6b72f",
   "metadata": {},
   "outputs": [
    {
     "data": {
      "text/plain": [
       "[0.0, 0.0, -0.010954451150103323, -0.0333015314963141, -0.056542495056373314]"
      ]
     },
     "execution_count": 150,
     "metadata": {},
     "output_type": "execute_result"
    }
   ],
   "source": [
    "x1"
   ]
  },
  {
   "cell_type": "code",
   "execution_count": 151,
   "id": "0c6ddb28",
   "metadata": {},
   "outputs": [
    {
     "data": {
      "text/plain": [
       "[0.0, 0.0, -0.021908902300206645, -0.08413018483279353, -0.19861734469275338]"
      ]
     },
     "execution_count": 151,
     "metadata": {},
     "output_type": "execute_result"
    }
   ],
   "source": [
    "x2"
   ]
  },
  {
   "cell_type": "code",
   "execution_count": 152,
   "id": "0bb9728b",
   "metadata": {},
   "outputs": [
    {
     "data": {
      "text/latex": [
       "$\\displaystyle \\left[\\begin{matrix}0\\\\0\\end{matrix}\\right]$"
      ],
      "text/plain": [
       "Matrix([\n",
       "[0],\n",
       "[0]])"
      ]
     },
     "execution_count": 152,
     "metadata": {},
     "output_type": "execute_result"
    }
   ],
   "source": [
    "x0"
   ]
  },
  {
   "cell_type": "code",
   "execution_count": 153,
   "id": "5bf16c36",
   "metadata": {},
   "outputs": [],
   "source": [
    "# Physical Response\n",
    "u_cdm = []\n",
    "u1 = []\n",
    "u2 =[]\n",
    "for ii in range(0,len(x_cdm)):\n",
    "    u_cdm.append(trans*x_cdm[ii])\n",
    "    u1.append(u_cdm[ii][0].subs(k1,7200).subs(k2,4800).subs(m,1.5))\n",
    "    u2.append(u_cdm[ii][-1].subs(k1,7200).subs(k2,4800).subs(m,1.5))"
   ]
  },
  {
   "cell_type": "code",
   "execution_count": 154,
   "id": "3051fb3d",
   "metadata": {},
   "outputs": [
    {
     "data": {
      "text/plain": [
       "[0, 0, 0, -0.00640000000000001, -0.0312320000000000]"
      ]
     },
     "execution_count": 154,
     "metadata": {},
     "output_type": "execute_result"
    }
   ],
   "source": [
    "u1"
   ]
  },
  {
   "cell_type": "code",
   "execution_count": 155,
   "id": "288ec267",
   "metadata": {},
   "outputs": [
    {
     "data": {
      "text/plain": [
       "[0, 0, -0.0200000000000000, -0.0736000000000000, -0.165696000000000]"
      ]
     },
     "execution_count": 155,
     "metadata": {},
     "output_type": "execute_result"
    }
   ],
   "source": [
    "u2"
   ]
  },
  {
   "cell_type": "code",
   "execution_count": 156,
   "id": "6e78746d",
   "metadata": {},
   "outputs": [
    {
     "data": {
      "text/latex": [
       "$\\displaystyle \\left[\\begin{matrix}- \\frac{2 \\sqrt{5}}{5 \\sqrt{M}} & \\frac{\\sqrt{5}}{5 \\sqrt{M}}\\\\\\frac{\\sqrt{5}}{5 \\sqrt{M}} & \\frac{2 \\sqrt{5}}{5 \\sqrt{M}}\\end{matrix}\\right]$"
      ],
      "text/plain": [
       "Matrix([\n",
       "[-2*sqrt(5)/(5*sqrt(M)),   sqrt(5)/(5*sqrt(M))],\n",
       "[   sqrt(5)/(5*sqrt(M)), 2*sqrt(5)/(5*sqrt(M))]])"
      ]
     },
     "execution_count": 156,
     "metadata": {},
     "output_type": "execute_result"
    }
   ],
   "source": [
    "trans"
   ]
  },
  {
   "cell_type": "code",
   "execution_count": null,
   "id": "38be995a",
   "metadata": {},
   "outputs": [],
   "source": []
  }
 ],
 "metadata": {
  "kernelspec": {
   "display_name": "Python 3 (ipykernel)",
   "language": "python",
   "name": "python3"
  },
  "language_info": {
   "codemirror_mode": {
    "name": "ipython",
    "version": 3
   },
   "file_extension": ".py",
   "mimetype": "text/x-python",
   "name": "python",
   "nbconvert_exporter": "python",
   "pygments_lexer": "ipython3",
   "version": "3.8.12"
  }
 },
 "nbformat": 4,
 "nbformat_minor": 5
}
